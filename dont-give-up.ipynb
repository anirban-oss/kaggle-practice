{
 "cells": [
  {
   "cell_type": "markdown",
   "id": "07786492",
   "metadata": {
    "papermill": {
     "duration": 0.00457,
     "end_time": "2023-01-28T06:23:09.503014",
     "exception": false,
     "start_time": "2023-01-28T06:23:09.498444",
     "status": "completed"
    },
    "tags": []
   },
   "source": [
    "# Motivation"
   ]
  },
  {
   "cell_type": "markdown",
   "id": "589658fb",
   "metadata": {
    "papermill": {
     "duration": 0.003038,
     "end_time": "2023-01-28T06:23:09.509928",
     "exception": false,
     "start_time": "2023-01-28T06:23:09.506890",
     "status": "completed"
    },
    "tags": []
   },
   "source": [
    "> **_Look at a stone cutter hammering away at his rock,          \n",
    "perhaps a hundred times without as much as a crack showing in it._**         \n",
    ">             \n",
    "> **_Yet at the hundred-and-first blow it will split in two,     \n",
    "and I know it was not the last blow that did it,        \n",
    "but all that had gone before._**      "
   ]
  },
  {
   "cell_type": "markdown",
   "id": "058ca1dc",
   "metadata": {
    "papermill": {
     "duration": 0.003001,
     "end_time": "2023-01-28T06:23:09.516349",
     "exception": false,
     "start_time": "2023-01-28T06:23:09.513348",
     "status": "completed"
    },
    "tags": []
   },
   "source": [
    "# importing libraries"
   ]
  },
  {
   "cell_type": "code",
   "execution_count": 1,
   "id": "31a76786",
   "metadata": {
    "_cell_guid": "b1076dfc-b9ad-4769-8c92-a6c4dae69d19",
    "_uuid": "8f2839f25d086af736a60e9eeb907d3b93b6e0e5",
    "execution": {
     "iopub.execute_input": "2023-01-28T06:23:09.526144Z",
     "iopub.status.busy": "2023-01-28T06:23:09.525198Z",
     "iopub.status.idle": "2023-01-28T06:23:09.538366Z",
     "shell.execute_reply": "2023-01-28T06:23:09.537085Z"
    },
    "papermill": {
     "duration": 0.022003,
     "end_time": "2023-01-28T06:23:09.541784",
     "exception": false,
     "start_time": "2023-01-28T06:23:09.519781",
     "status": "completed"
    },
    "tags": []
   },
   "outputs": [],
   "source": [
    "import numpy as np\n",
    "import pandas as pd"
   ]
  },
  {
   "cell_type": "code",
   "execution_count": 2,
   "id": "d313ed99",
   "metadata": {
    "_cell_guid": "b1076dfc-b9ad-4769-8c92-a6c4dae69d19",
    "_uuid": "8f2839f25d086af736a60e9eeb907d3b93b6e0e5",
    "execution": {
     "iopub.execute_input": "2023-01-28T06:23:09.551724Z",
     "iopub.status.busy": "2023-01-28T06:23:09.551230Z",
     "iopub.status.idle": "2023-01-28T06:23:12.482174Z",
     "shell.execute_reply": "2023-01-28T06:23:12.480196Z"
    },
    "papermill": {
     "duration": 2.941349,
     "end_time": "2023-01-28T06:23:12.487019",
     "exception": false,
     "start_time": "2023-01-28T06:23:09.545670",
     "status": "completed"
    },
    "tags": []
   },
   "outputs": [],
   "source": [
    "import matplotlib.pyplot as plt\n",
    "import seaborn as sns\n",
    "import plotly.express as px"
   ]
  },
  {
   "cell_type": "code",
   "execution_count": 3,
   "id": "bc3a54b4",
   "metadata": {
    "execution": {
     "iopub.execute_input": "2023-01-28T06:23:12.497773Z",
     "iopub.status.busy": "2023-01-28T06:23:12.497277Z",
     "iopub.status.idle": "2023-01-28T06:23:27.395811Z",
     "shell.execute_reply": "2023-01-28T06:23:27.393892Z"
    },
    "papermill": {
     "duration": 14.907719,
     "end_time": "2023-01-28T06:23:27.399507",
     "exception": false,
     "start_time": "2023-01-28T06:23:12.491788",
     "status": "completed"
    },
    "tags": []
   },
   "outputs": [
    {
     "name": "stdout",
     "output_type": "stream",
     "text": [
      "Collecting klib\r\n",
      "  Downloading klib-1.0.1-py3-none-any.whl (20 kB)\r\n",
      "Requirement already satisfied: matplotlib<4.0.0,>=3.0.3 in /opt/conda/lib/python3.7/site-packages (from klib) (3.5.2)\r\n",
      "Requirement already satisfied: seaborn<0.12.0,>=0.11.1 in /opt/conda/lib/python3.7/site-packages (from klib) (0.11.2)\r\n",
      "Requirement already satisfied: scipy<2.0.0,>=1.1.0 in /opt/conda/lib/python3.7/site-packages (from klib) (1.7.3)\r\n",
      "Requirement already satisfied: Jinja2<4.0.0,>=3.0.3 in /opt/conda/lib/python3.7/site-packages (from klib) (3.1.2)\r\n",
      "Requirement already satisfied: numpy<2.0.0,>=1.16.3 in /opt/conda/lib/python3.7/site-packages (from klib) (1.21.6)\r\n",
      "Requirement already satisfied: pandas<2.0.0,>=1.1.2 in /opt/conda/lib/python3.7/site-packages (from klib) (1.3.5)\r\n",
      "Requirement already satisfied: MarkupSafe>=2.0 in /opt/conda/lib/python3.7/site-packages (from Jinja2<4.0.0,>=3.0.3->klib) (2.1.2)\r\n",
      "Requirement already satisfied: pyparsing>=2.2.1 in /opt/conda/lib/python3.7/site-packages (from matplotlib<4.0.0,>=3.0.3->klib) (3.0.9)\r\n",
      "Requirement already satisfied: packaging>=20.0 in /opt/conda/lib/python3.7/site-packages (from matplotlib<4.0.0,>=3.0.3->klib) (23.0)\r\n",
      "Requirement already satisfied: cycler>=0.10 in /opt/conda/lib/python3.7/site-packages (from matplotlib<4.0.0,>=3.0.3->klib) (0.11.0)\r\n",
      "Requirement already satisfied: pillow>=6.2.0 in /opt/conda/lib/python3.7/site-packages (from matplotlib<4.0.0,>=3.0.3->klib) (9.1.1)\r\n",
      "Requirement already satisfied: python-dateutil>=2.7 in /opt/conda/lib/python3.7/site-packages (from matplotlib<4.0.0,>=3.0.3->klib) (2.8.2)\r\n",
      "Requirement already satisfied: kiwisolver>=1.0.1 in /opt/conda/lib/python3.7/site-packages (from matplotlib<4.0.0,>=3.0.3->klib) (1.4.3)\r\n",
      "Requirement already satisfied: fonttools>=4.22.0 in /opt/conda/lib/python3.7/site-packages (from matplotlib<4.0.0,>=3.0.3->klib) (4.33.3)\r\n",
      "Requirement already satisfied: pytz>=2017.3 in /opt/conda/lib/python3.7/site-packages (from pandas<2.0.0,>=1.1.2->klib) (2022.1)\r\n",
      "Requirement already satisfied: typing-extensions in /opt/conda/lib/python3.7/site-packages (from kiwisolver>=1.0.1->matplotlib<4.0.0,>=3.0.3->klib) (4.1.1)\r\n",
      "Requirement already satisfied: six>=1.5 in /opt/conda/lib/python3.7/site-packages (from python-dateutil>=2.7->matplotlib<4.0.0,>=3.0.3->klib) (1.15.0)\r\n",
      "Installing collected packages: klib\r\n",
      "Successfully installed klib-1.0.1\r\n",
      "\u001b[33mWARNING: Running pip as the 'root' user can result in broken permissions and conflicting behaviour with the system package manager. It is recommended to use a virtual environment instead: https://pip.pypa.io/warnings/venv\u001b[0m\u001b[33m\r\n",
      "\u001b[0m"
     ]
    }
   ],
   "source": [
    "# if you restart the kernel, run this\n",
    "!pip install klib"
   ]
  },
  {
   "cell_type": "code",
   "execution_count": 4,
   "id": "2e8ec19b",
   "metadata": {
    "_kg_hide-input": false,
    "execution": {
     "iopub.execute_input": "2023-01-28T06:23:27.410933Z",
     "iopub.status.busy": "2023-01-28T06:23:27.410421Z",
     "iopub.status.idle": "2023-01-28T06:23:27.424779Z",
     "shell.execute_reply": "2023-01-28T06:23:27.423176Z"
    },
    "papermill": {
     "duration": 0.024177,
     "end_time": "2023-01-28T06:23:27.428153",
     "exception": false,
     "start_time": "2023-01-28T06:23:27.403976",
     "status": "completed"
    },
    "tags": []
   },
   "outputs": [],
   "source": [
    "import klib"
   ]
  },
  {
   "cell_type": "markdown",
   "id": "9287df7a",
   "metadata": {
    "papermill": {
     "duration": 0.003768,
     "end_time": "2023-01-28T06:23:27.436139",
     "exception": false,
     "start_time": "2023-01-28T06:23:27.432371",
     "status": "completed"
    },
    "tags": []
   },
   "source": [
    "# reading the data "
   ]
  },
  {
   "cell_type": "code",
   "execution_count": 5,
   "id": "e15f3f52",
   "metadata": {
    "execution": {
     "iopub.execute_input": "2023-01-28T06:23:27.447675Z",
     "iopub.status.busy": "2023-01-28T06:23:27.446877Z",
     "iopub.status.idle": "2023-01-28T06:23:31.630559Z",
     "shell.execute_reply": "2023-01-28T06:23:31.629235Z"
    },
    "papermill": {
     "duration": 4.194006,
     "end_time": "2023-01-28T06:23:31.634200",
     "exception": false,
     "start_time": "2023-01-28T06:23:27.440194",
     "status": "completed"
    },
    "tags": []
   },
   "outputs": [],
   "source": [
    "df = pd.read_csv('../input/kagglex-bipoc-2022-2023-ml-foundation/Train.csv')\n",
    "test_df = pd.read_csv('../input/kagglex-bipoc-2022-2023-ml-foundation/Test.csv')\n",
    "sample_sub = pd.read_csv('../input/kagglex-bipoc-2022-2023-ml-foundation/Sample_submission.csv')"
   ]
  },
  {
   "cell_type": "markdown",
   "id": "766de1d0",
   "metadata": {
    "papermill": {
     "duration": 0.003781,
     "end_time": "2023-01-28T06:23:31.642371",
     "exception": false,
     "start_time": "2023-01-28T06:23:31.638590",
     "status": "completed"
    },
    "tags": []
   },
   "source": [
    "# klib.describe - functions for visualizing datasets\n",
    "- klib.cat_plot(df) # returns a visualization of the number and frequency of categorical features\n",
    "- klib.corr_mat(df) # returns a color-encoded correlation matrix\n",
    "- klib.corr_plot(df) # returns a color-encoded heatmap, ideal for correlations\n",
    "- klib.dist_plot(df) # returns a distribution plot for every numeric feature\n",
    "- klib.missingval_plot(df) # returns a figure containing information about missing values"
   ]
  },
  {
   "cell_type": "markdown",
   "id": "c3205a7c",
   "metadata": {
    "papermill": {
     "duration": 0.004004,
     "end_time": "2023-01-28T06:23:31.650447",
     "exception": false,
     "start_time": "2023-01-28T06:23:31.646443",
     "status": "completed"
    },
    "tags": []
   },
   "source": [
    "# klib.clean - functions for cleaning datasets\n",
    "- klib.data_cleaning(df) # performs datacleaning (drop duplicates & empty rows/cols, adjust dtypes,...)\n",
    "- klib.clean_column_names(df) # cleans and standardizes column names, also called inside data_cleaning()\n",
    "- klib.convert_datatypes(df) # converts existing to more efficient dtypes, also called inside data_cleaning()\n",
    "- klib.drop_missing(df) # drops missing values, also called in data_cleaning()\n",
    "- klib.mv_col_handling(df) # drops features with high ratio of missing vals based on informational content\n",
    "- klib.pool_duplicate_subsets(df) # pools subset of cols based on duplicates with min. loss of information\n"
   ]
  }
 ],
 "metadata": {
  "kernelspec": {
   "display_name": "Python 3",
   "language": "python",
   "name": "python3"
  },
  "language_info": {
   "codemirror_mode": {
    "name": "ipython",
    "version": 3
   },
   "file_extension": ".py",
   "mimetype": "text/x-python",
   "name": "python",
   "nbconvert_exporter": "python",
   "pygments_lexer": "ipython3",
   "version": "3.7.12"
  },
  "papermill": {
   "default_parameters": {},
   "duration": 33.523844,
   "end_time": "2023-01-28T06:23:32.681232",
   "environment_variables": {},
   "exception": null,
   "input_path": "__notebook__.ipynb",
   "output_path": "__notebook__.ipynb",
   "parameters": {},
   "start_time": "2023-01-28T06:22:59.157388",
   "version": "2.3.4"
  }
 },
 "nbformat": 4,
 "nbformat_minor": 5
}
