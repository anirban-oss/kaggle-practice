{
 "cells": [
  {
   "cell_type": "code",
   "execution_count": 1,
   "id": "2adc344e",
   "metadata": {
    "_cell_guid": "b1076dfc-b9ad-4769-8c92-a6c4dae69d19",
    "_uuid": "8f2839f25d086af736a60e9eeb907d3b93b6e0e5",
    "execution": {
     "iopub.execute_input": "2023-01-09T16:22:54.895494Z",
     "iopub.status.busy": "2023-01-09T16:22:54.894863Z",
     "iopub.status.idle": "2023-01-09T16:22:54.913693Z",
     "shell.execute_reply": "2023-01-09T16:22:54.912451Z"
    },
    "papermill": {
     "duration": 0.0293,
     "end_time": "2023-01-09T16:22:54.916686",
     "exception": false,
     "start_time": "2023-01-09T16:22:54.887386",
     "status": "completed"
    },
    "scrolled": true,
    "tags": []
   },
   "outputs": [
    {
     "name": "stdout",
     "output_type": "stream",
     "text": [
      "/kaggle/input/homeprices/homeprices.csv\n"
     ]
    }
   ],
   "source": [
    "# This Python 3 environment comes with many helpful analytics libraries installed\n",
    "# It is defined by the kaggle/python Docker image: https://github.com/kaggle/docker-python\n",
    "# For example, here's several helpful packages to load\n",
    "\n",
    "import numpy as np # linear algebra\n",
    "import pandas as pd # data processing, CSV file I/O (e.g. pd.read_csv)\n",
    "\n",
    "# Input data files are available in the read-only \"../input/\" directory\n",
    "# For example, running this (by clicking run or pressing Shift+Enter) will list all files under the input directory\n",
    "\n",
    "import os\n",
    "for dirname, _, filenames in os.walk('/kaggle/input'):\n",
    "    for filename in filenames:\n",
    "        print(os.path.join(dirname, filename))\n",
    "\n",
    "# You can write up to 20GB to the current directory (/kaggle/working/) that gets preserved as output when you create a version using \"Save & Run All\" \n",
    "# You can also write temporary files to /kaggle/temp/, but they won't be saved outside of the current session"
   ]
  },
  {
   "cell_type": "code",
   "execution_count": 2,
   "id": "b3997043",
   "metadata": {
    "execution": {
     "iopub.execute_input": "2023-01-09T16:22:54.927234Z",
     "iopub.status.busy": "2023-01-09T16:22:54.926831Z",
     "iopub.status.idle": "2023-01-09T16:22:55.906330Z",
     "shell.execute_reply": "2023-01-09T16:22:55.905449Z"
    },
    "papermill": {
     "duration": 0.987419,
     "end_time": "2023-01-09T16:22:55.908853",
     "exception": false,
     "start_time": "2023-01-09T16:22:54.921434",
     "status": "completed"
    },
    "tags": []
   },
   "outputs": [],
   "source": [
    "import matplotlib.pyplot as plt\n",
    "from sklearn import linear_model"
   ]
  },
  {
   "cell_type": "code",
   "execution_count": 3,
   "id": "d39650c8",
   "metadata": {
    "execution": {
     "iopub.execute_input": "2023-01-09T16:22:55.920926Z",
     "iopub.status.busy": "2023-01-09T16:22:55.920282Z",
     "iopub.status.idle": "2023-01-09T16:22:55.944680Z",
     "shell.execute_reply": "2023-01-09T16:22:55.943588Z"
    },
    "papermill": {
     "duration": 0.032438,
     "end_time": "2023-01-09T16:22:55.947198",
     "exception": false,
     "start_time": "2023-01-09T16:22:55.914760",
     "status": "completed"
    },
    "tags": []
   },
   "outputs": [
    {
     "data": {
      "text/html": [
       "<div>\n",
       "<style scoped>\n",
       "    .dataframe tbody tr th:only-of-type {\n",
       "        vertical-align: middle;\n",
       "    }\n",
       "\n",
       "    .dataframe tbody tr th {\n",
       "        vertical-align: top;\n",
       "    }\n",
       "\n",
       "    .dataframe thead th {\n",
       "        text-align: right;\n",
       "    }\n",
       "</style>\n",
       "<table border=\"1\" class=\"dataframe\">\n",
       "  <thead>\n",
       "    <tr style=\"text-align: right;\">\n",
       "      <th></th>\n",
       "      <th>area</th>\n",
       "      <th>price</th>\n",
       "    </tr>\n",
       "  </thead>\n",
       "  <tbody>\n",
       "    <tr>\n",
       "      <th>0</th>\n",
       "      <td>2600</td>\n",
       "      <td>550000</td>\n",
       "    </tr>\n",
       "    <tr>\n",
       "      <th>1</th>\n",
       "      <td>3000</td>\n",
       "      <td>565000</td>\n",
       "    </tr>\n",
       "    <tr>\n",
       "      <th>2</th>\n",
       "      <td>3200</td>\n",
       "      <td>610000</td>\n",
       "    </tr>\n",
       "    <tr>\n",
       "      <th>3</th>\n",
       "      <td>3600</td>\n",
       "      <td>680000</td>\n",
       "    </tr>\n",
       "    <tr>\n",
       "      <th>4</th>\n",
       "      <td>4000</td>\n",
       "      <td>725000</td>\n",
       "    </tr>\n",
       "  </tbody>\n",
       "</table>\n",
       "</div>"
      ],
      "text/plain": [
       "   area   price\n",
       "0  2600  550000\n",
       "1  3000  565000\n",
       "2  3200  610000\n",
       "3  3600  680000\n",
       "4  4000  725000"
      ]
     },
     "execution_count": 3,
     "metadata": {},
     "output_type": "execute_result"
    }
   ],
   "source": [
    "df = pd.read_csv(\"/kaggle/input/homeprices/homeprices.csv\")\n",
    "df"
   ]
  },
  {
   "cell_type": "code",
   "execution_count": 4,
   "id": "0ebdf0eb",
   "metadata": {
    "execution": {
     "iopub.execute_input": "2023-01-09T16:22:55.957550Z",
     "iopub.status.busy": "2023-01-09T16:22:55.957164Z",
     "iopub.status.idle": "2023-01-09T16:22:56.224321Z",
     "shell.execute_reply": "2023-01-09T16:22:56.223113Z"
    },
    "papermill": {
     "duration": 0.275056,
     "end_time": "2023-01-09T16:22:56.226788",
     "exception": false,
     "start_time": "2023-01-09T16:22:55.951732",
     "status": "completed"
    },
    "tags": []
   },
   "outputs": [
    {
     "data": {
      "text/plain": [
       "<matplotlib.collections.PathCollection at 0x7f699c51e810>"
      ]
     },
     "execution_count": 4,
     "metadata": {},
     "output_type": "execute_result"
    },
    {
     "data": {
      "image/png": "[encoded data removed]",
      "text/plain": [
       "<Figure size 432x288 with 1 Axes>"
      ]
     },
     "metadata": {
      "needs_background": "light"
     },
     "output_type": "display_data"
    }
   ],
   "source": [
    "%matplotlib inline\n",
    "\n",
    "plt.xlabel('area')\n",
    "plt.ylabel('price(US$)')\n",
    "plt.scatter(df.area, df.price, color = 'red', marker = '+')"
   ]
  },
  {
   "cell_type": "code",
   "execution_count": 5,
   "id": "eeb031a0",
   "metadata": {
    "execution": {
     "iopub.execute_input": "2023-01-09T16:22:56.238253Z",
     "iopub.status.busy": "2023-01-09T16:22:56.237812Z",
     "iopub.status.idle": "2023-01-09T16:22:56.264895Z",
     "shell.execute_reply": "2023-01-09T16:22:56.263748Z"
    },
    "papermill": {
     "duration": 0.035661,
     "end_time": "2023-01-09T16:22:56.267456",
     "exception": false,
     "start_time": "2023-01-09T16:22:56.231795",
     "status": "completed"
    },
    "tags": []
   },
   "outputs": [
    {
     "data": {
      "text/plain": [
       "LinearRegression()"
      ]
     },
     "execution_count": 5,
     "metadata": {},
     "output_type": "execute_result"
    }
   ],
   "source": [
    "reg = linear_model.LinearRegression()\n",
    "reg.fit(df[[\"area\"]],df.price)"
   ]
  },
  {
   "cell_type": "code",
   "execution_count": 6,
   "id": "854e5395",
   "metadata": {
    "execution": {
     "iopub.execute_input": "2023-01-09T16:22:56.279160Z",
     "iopub.status.busy": "2023-01-09T16:22:56.278745Z",
     "iopub.status.idle": "2023-01-09T16:22:56.289649Z",
     "shell.execute_reply": "2023-01-09T16:22:56.288372Z"
    },
    "papermill": {
     "duration": 0.019567,
     "end_time": "2023-01-09T16:22:56.292077",
     "exception": false,
     "start_time": "2023-01-09T16:22:56.272510",
     "status": "completed"
    },
    "tags": []
   },
   "outputs": [
    {
     "name": "stderr",
     "output_type": "stream",
     "text": [
      "/opt/conda/lib/python3.7/site-packages/sklearn/base.py:451: UserWarning: X does not have valid feature names, but LinearRegression was fitted with feature names\n",
      "  \"X does not have valid feature names, but\"\n"
     ]
    },
    {
     "data": {
      "text/plain": [
       "array([628715.75342466])"
      ]
     },
     "execution_count": 6,
     "metadata": {},
     "output_type": "execute_result"
    }
   ],
   "source": [
    "reg.predict([[3300]])"
   ]
  },
  {
   "cell_type": "code",
   "execution_count": 7,
   "id": "1055d692",
   "metadata": {
    "execution": {
     "iopub.execute_input": "2023-01-09T16:22:56.304781Z",
     "iopub.status.busy": "2023-01-09T16:22:56.303962Z",
     "iopub.status.idle": "2023-01-09T16:22:56.311212Z",
     "shell.execute_reply": "2023-01-09T16:22:56.310375Z"
    },
    "papermill": {
     "duration": 0.015855,
     "end_time": "2023-01-09T16:22:56.313195",
     "exception": false,
     "start_time": "2023-01-09T16:22:56.297340",
     "status": "completed"
    },
    "tags": []
   },
   "outputs": [
    {
     "data": {
      "text/plain": [
       "array([135.78767123])"
      ]
     },
     "execution_count": 7,
     "metadata": {},
     "output_type": "execute_result"
    }
   ],
   "source": [
    "reg.coef_"
   ]
  },
  {
   "cell_type": "code",
   "execution_count": 8,
   "id": "f45a6cc7",
   "metadata": {
    "execution": {
     "iopub.execute_input": "2023-01-09T16:22:56.325312Z",
     "iopub.status.busy": "2023-01-09T16:22:56.324922Z",
     "iopub.status.idle": "2023-01-09T16:22:56.330621Z",
     "shell.execute_reply": "2023-01-09T16:22:56.329097Z"
    },
    "papermill": {
     "duration": 0.014695,
     "end_time": "2023-01-09T16:22:56.333098",
     "exception": false,
     "start_time": "2023-01-09T16:22:56.318403",
     "status": "completed"
    },
    "tags": []
   },
   "outputs": [
    {
     "name": "stdout",
     "output_type": "stream",
     "text": [
      "I dont understand what is happening in the world, i feel like i need more and more time to do anything!\n"
     ]
    }
   ],
   "source": [
    "print('I dont understand what is happening in the world, i feel like i need more and more time to do anything!')"
   ]
  },
  {
   "cell_type": "code",
   "execution_count": 9,
   "id": "e2165506",
   "metadata": {
    "execution": {
     "iopub.execute_input": "2023-01-09T16:22:56.345256Z",
     "iopub.status.busy": "2023-01-09T16:22:56.344829Z",
     "iopub.status.idle": "2023-01-09T16:22:56.350847Z",
     "shell.execute_reply": "2023-01-09T16:22:56.349530Z"
    },
    "papermill": {
     "duration": 0.014719,
     "end_time": "2023-01-09T16:22:56.353045",
     "exception": false,
     "start_time": "2023-01-09T16:22:56.338326",
     "status": "completed"
    },
    "tags": []
   },
   "outputs": [
    {
     "name": "stdout",
     "output_type": "stream",
     "text": [
      "I want to learn maths even better than i currently know it!\n"
     ]
    }
   ],
   "source": [
    "print('I want to learn maths even better than i currently know it!')"
   ]
  },
  {
   "cell_type": "code",
   "execution_count": 10,
   "id": "f80356d5",
   "metadata": {
    "execution": {
     "iopub.execute_input": "2023-01-09T16:22:56.366525Z",
     "iopub.status.busy": "2023-01-09T16:22:56.365299Z",
     "iopub.status.idle": "2023-01-09T16:22:56.371271Z",
     "shell.execute_reply": "2023-01-09T16:22:56.369995Z"
    },
    "papermill": {
     "duration": 0.015207,
     "end_time": "2023-01-09T16:22:56.373617",
     "exception": false,
     "start_time": "2023-01-09T16:22:56.358410",
     "status": "completed"
    },
    "tags": []
   },
   "outputs": [
    {
     "name": "stdout",
     "output_type": "stream",
     "text": [
      "I want to do the MIT courses in a very fundamental way\n"
     ]
    }
   ],
   "source": [
    "print('I want to do the MIT courses in a very fundamental way')"
   ]
  },
  {
   "cell_type": "code",
   "execution_count": 11,
   "id": "bbdcccf4",
   "metadata": {
    "execution": {
     "iopub.execute_input": "2023-01-09T16:22:56.386659Z",
     "iopub.status.busy": "2023-01-09T16:22:56.386251Z",
     "iopub.status.idle": "2023-01-09T16:22:56.391848Z",
     "shell.execute_reply": "2023-01-09T16:22:56.390697Z"
    },
    "papermill": {
     "duration": 0.014573,
     "end_time": "2023-01-09T16:22:56.393846",
     "exception": false,
     "start_time": "2023-01-09T16:22:56.379273",
     "status": "completed"
    },
    "tags": []
   },
   "outputs": [
    {
     "name": "stdout",
     "output_type": "stream",
     "text": [
      "I think the question to ask is do you need time to learn something very well or do you need brute force pain to go through the problems that are common in the subject?\n"
     ]
    }
   ],
   "source": [
    "print('I think the question to ask is do you need time to learn something very well or do you need brute force pain to go through the problems that are common in the subject?')"
   ]
  },
  {
   "cell_type": "code",
   "execution_count": 12,
   "id": "c935c265",
   "metadata": {
    "execution": {
     "iopub.execute_input": "2023-01-09T16:22:56.406964Z",
     "iopub.status.busy": "2023-01-09T16:22:56.406111Z",
     "iopub.status.idle": "2023-01-09T16:22:56.412596Z",
     "shell.execute_reply": "2023-01-09T16:22:56.411016Z"
    },
    "papermill": {
     "duration": 0.016051,
     "end_time": "2023-01-09T16:22:56.415443",
     "exception": false,
     "start_time": "2023-01-09T16:22:56.399392",
     "status": "completed"
    },
    "tags": []
   },
   "outputs": [
    {
     "name": "stdout",
     "output_type": "stream",
     "text": [
      "I think one can get conceptual understanding in time but going through something forcefully is of different nature!\n"
     ]
    }
   ],
   "source": [
    "print('I think one can get conceptual understanding in time but going through something forcefully is of different nature!')"
   ]
  },
  {
   "cell_type": "code",
   "execution_count": 13,
   "id": "77899f46",
   "metadata": {
    "execution": {
     "iopub.execute_input": "2023-01-09T16:22:56.429121Z",
     "iopub.status.busy": "2023-01-09T16:22:56.428707Z",
     "iopub.status.idle": "2023-01-09T16:22:56.434294Z",
     "shell.execute_reply": "2023-01-09T16:22:56.433186Z"
    },
    "papermill": {
     "duration": 0.016102,
     "end_time": "2023-01-09T16:22:56.437689",
     "exception": false,
     "start_time": "2023-01-09T16:22:56.421587",
     "status": "completed"
    },
    "tags": []
   },
   "outputs": [
    {
     "name": "stdout",
     "output_type": "stream",
     "text": [
      "\n",
      "i want to master DSA of common nature\n",
      "i want to master MLE of common nature\n",
      "i want to master FOSS of common nature\n",
      "i want to master hacking of common nature\n",
      "i want to master sharing of common nature\n",
      "\n"
     ]
    }
   ],
   "source": [
    "print('''\n",
    "i want to master DSA of common nature\n",
    "i want to master MLE of common nature\n",
    "i want to master FOSS of common nature\n",
    "i want to master hacking of common nature\n",
    "i want to master sharing of common nature\n",
    "''')"
   ]
  },
  {
   "cell_type": "code",
   "execution_count": 14,
   "id": "a93c728d",
   "metadata": {
    "execution": {
     "iopub.execute_input": "2023-01-09T16:22:56.452285Z",
     "iopub.status.busy": "2023-01-09T16:22:56.451436Z",
     "iopub.status.idle": "2023-01-09T16:22:56.457255Z",
     "shell.execute_reply": "2023-01-09T16:22:56.456162Z"
    },
    "papermill": {
     "duration": 0.015142,
     "end_time": "2023-01-09T16:22:56.459477",
     "exception": false,
     "start_time": "2023-01-09T16:22:56.444335",
     "status": "completed"
    },
    "tags": []
   },
   "outputs": [
    {
     "name": "stdout",
     "output_type": "stream",
     "text": [
      "i will never give up on mastering data structures and data science and algorithms and machine learning!\n"
     ]
    }
   ],
   "source": [
    "print('i will never give up on mastering data structures and data science and algorithms and machine learning!')"
   ]
  },
  {
   "cell_type": "code",
   "execution_count": null,
   "id": "7ccbd96d",
   "metadata": {
    "papermill": {
     "duration": 0.005348,
     "end_time": "2023-01-09T16:22:56.470460",
     "exception": false,
     "start_time": "2023-01-09T16:22:56.465112",
     "status": "completed"
    },
    "tags": []
   },
   "outputs": [],
   "source": []
  }
 ],
 "metadata": {
  "kernelspec": {
   "display_name": "Python 3",
   "language": "python",
   "name": "python3"
  },
  "language_info": {
   "codemirror_mode": {
    "name": "ipython",
    "version": 3
   },
   "file_extension": ".py",
   "mimetype": "text/x-python",
   "name": "python",
   "nbconvert_exporter": "python",
   "pygments_lexer": "ipython3",
   "version": "3.7.12"
  },
  "papermill": {
   "default_parameters": {},
   "duration": 10.838152,
   "end_time": "2023-01-09T16:22:57.198273",
   "environment_variables": {},
   "exception": null,
   "input_path": "__notebook__.ipynb",
   "output_path": "__notebook__.ipynb",
   "parameters": {},
   "start_time": "2023-01-09T16:22:46.360121",
   "version": "2.3.4"
  }
 },
 "nbformat": 4,
 "nbformat_minor": 5
}
