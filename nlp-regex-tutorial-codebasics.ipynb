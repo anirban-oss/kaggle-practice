{
 "cells": [
  {
   "cell_type": "code",
   "execution_count": 1,
   "id": "7726ba25",
   "metadata": {
    "_cell_guid": "b1076dfc-b9ad-4769-8c92-a6c4dae69d19",
    "_uuid": "8f2839f25d086af736a60e9eeb907d3b93b6e0e5",
    "execution": {
     "iopub.execute_input": "2023-01-07T07:06:11.695754Z",
     "iopub.status.busy": "2023-01-07T07:06:11.694801Z",
     "iopub.status.idle": "2023-01-07T07:06:11.710163Z",
     "shell.execute_reply": "2023-01-07T07:06:11.708756Z"
    },
    "papermill": {
     "duration": 0.024582,
     "end_time": "2023-01-07T07:06:11.713427",
     "exception": false,
     "start_time": "2023-01-07T07:06:11.688845",
     "status": "completed"
    },
    "tags": []
   },
   "outputs": [],
   "source": [
    "# This Python 3 environment comes with many helpful analytics libraries installed\n",
    "# It is defined by the kaggle/python Docker image: https://github.com/kaggle/docker-python\n",
    "# For example, here's several helpful packages to load\n",
    "\n",
    "import numpy as np # linear algebra\n",
    "import pandas as pd # data processing, CSV file I/O (e.g. pd.read_csv)\n",
    "\n",
    "# Input data files are available in the read-only \"../input/\" directory\n",
    "# For example, running this (by clicking run or pressing Shift+Enter) will list all files under the input directory\n",
    "\n",
    "import os\n",
    "for dirname, _, filenames in os.walk('/kaggle/input'):\n",
    "    for filename in filenames:\n",
    "        print(os.path.join(dirname, filename))\n",
    "\n",
    "# You can write up to 20GB to the  current directory (/kaggle/working/) that gets preserved as output when you create a version using \"Save & Run All\" \n",
    "# You can also write temporary files to /kaggle/temp/, but they won't be saved outside of the current session"
   ]
  },
  {
   "cell_type": "code",
   "execution_count": 2,
   "id": "dc863fb5",
   "metadata": {
    "execution": {
     "iopub.execute_input": "2023-01-07T07:06:11.721626Z",
     "iopub.status.busy": "2023-01-07T07:06:11.720713Z",
     "iopub.status.idle": "2023-01-07T07:06:11.726259Z",
     "shell.execute_reply": "2023-01-07T07:06:11.725050Z"
    },
    "papermill": {
     "duration": 0.012638,
     "end_time": "2023-01-07T07:06:11.729062",
     "exception": false,
     "start_time": "2023-01-07T07:06:11.716424",
     "status": "completed"
    },
    "tags": []
   },
   "outputs": [],
   "source": [
    "import re"
   ]
  },
  {
   "cell_type": "code",
   "execution_count": 3,
   "id": "4ac455a6",
   "metadata": {
    "execution": {
     "iopub.execute_input": "2023-01-07T07:06:11.736647Z",
     "iopub.status.busy": "2023-01-07T07:06:11.735924Z",
     "iopub.status.idle": "2023-01-07T07:06:11.741777Z",
     "shell.execute_reply": "2023-01-07T07:06:11.740389Z"
    },
    "papermill": {
     "duration": 0.012691,
     "end_time": "2023-01-07T07:06:11.744487",
     "exception": false,
     "start_time": "2023-01-07T07:06:11.731796",
     "status": "completed"
    },
    "tags": []
   },
   "outputs": [],
   "source": [
    "chat1 = 'codebasics: you ask lot of questions 😠 9641391558, bughn@mji.com'\n",
    "chat2 = 'codebasics: I have a problem with my order number 412889912'\n",
    "chat3 = 'codebasics: My order 412889912 is having an issue, I was charged 300$ when online it says 280$'"
   ]
  },
  {
   "cell_type": "code",
   "execution_count": 4,
   "id": "e44c7deb",
   "metadata": {
    "execution": {
     "iopub.execute_input": "2023-01-07T07:06:11.751864Z",
     "iopub.status.busy": "2023-01-07T07:06:11.751378Z",
     "iopub.status.idle": "2023-01-07T07:06:11.762352Z",
     "shell.execute_reply": "2023-01-07T07:06:11.760840Z"
    },
    "papermill": {
     "duration": 0.018408,
     "end_time": "2023-01-07T07:06:11.765591",
     "exception": false,
     "start_time": "2023-01-07T07:06:11.747183",
     "status": "completed"
    },
    "tags": []
   },
   "outputs": [
    {
     "data": {
      "text/plain": [
       "['9641391558']"
      ]
     },
     "execution_count": 4,
     "metadata": {},
     "output_type": "execute_result"
    }
   ],
   "source": [
    "pattern = '\\d{10}'\n",
    "matches = re.findall(pattern, chat1)\n",
    "matches"
   ]
  },
  {
   "cell_type": "code",
   "execution_count": 5,
   "id": "15447276",
   "metadata": {
    "execution": {
     "iopub.execute_input": "2023-01-07T07:06:11.773280Z",
     "iopub.status.busy": "2023-01-07T07:06:11.772819Z",
     "iopub.status.idle": "2023-01-07T07:06:11.780334Z",
     "shell.execute_reply": "2023-01-07T07:06:11.779059Z"
    },
    "papermill": {
     "duration": 0.016204,
     "end_time": "2023-01-07T07:06:11.784623",
     "exception": false,
     "start_time": "2023-01-07T07:06:11.768419",
     "status": "completed"
    },
    "tags": []
   },
   "outputs": [
    {
     "name": "stdout",
     "output_type": "stream",
     "text": [
      "          \n",
      "         *\n",
      "        ***\n",
      "       *****\n",
      "      *******\n",
      "     *********\n",
      "    ***********\n",
      "   *************\n",
      "  ***************\n",
      " *****************\n"
     ]
    }
   ],
   "source": [
    "n = 10\n",
    "for i in range (n):\n",
    "    print(' '*(10-i)+'*'*(i)+'*'*(i-1))"
   ]
  }
 ],
 "metadata": {
  "kernelspec": {
   "display_name": "Python 3",
   "language": "python",
   "name": "python3"
  },
  "language_info": {
   "codemirror_mode": {
    "name": "ipython",
    "version": 3
   },
   "file_extension": ".py",
   "mimetype": "text/x-python",
   "name": "python",
   "nbconvert_exporter": "python",
   "pygments_lexer": "ipython3",
   "version": "3.7.12"
  },
  "papermill": {
   "default_parameters": {},
   "duration": 11.897733,
   "end_time": "2023-01-07T07:06:12.513693",
   "environment_variables": {},
   "exception": null,
   "input_path": "__notebook__.ipynb",
   "output_path": "__notebook__.ipynb",
   "parameters": {},
   "start_time": "2023-01-07T07:06:00.615960",
   "version": "2.3.4"
  }
 },
 "nbformat": 4,
 "nbformat_minor": 5
}
