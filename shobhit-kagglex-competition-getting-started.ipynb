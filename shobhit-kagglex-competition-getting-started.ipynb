{
 "cells": [
  {
   "cell_type": "code",
   "execution_count": 1,
   "id": "7ef3adc8",
   "metadata": {
    "execution": {
     "iopub.execute_input": "2023-01-07T07:06:30.633177Z",
     "iopub.status.busy": "2023-01-07T07:06:30.632670Z",
     "iopub.status.idle": "2023-01-07T07:06:58.268416Z",
     "shell.execute_reply": "2023-01-07T07:06:58.266470Z"
    },
    "papermill": {
     "duration": 27.654809,
     "end_time": "2023-01-07T07:06:58.272998",
     "exception": false,
     "start_time": "2023-01-07T07:06:30.618189",
     "status": "completed"
    },
    "tags": []
   },
   "outputs": [
    {
     "name": "stdout",
     "output_type": "stream",
     "text": [
      "Requirement already satisfied: plotly in /opt/conda/lib/python3.7/site-packages (5.10.0)\r\n",
      "Requirement already satisfied: tenacity>=6.2.0 in /opt/conda/lib/python3.7/site-packages (from plotly) (8.0.1)\r\n",
      "\u001b[33mWARNING: Running pip as the 'root' user can result in broken permissions and conflicting behaviour with the system package manager. It is recommended to use a virtual environment instead: https://pip.pypa.io/warnings/venv\u001b[0m\u001b[33m\r\n",
      "\u001b[0mRequirement already satisfied: nbformat in /opt/conda/lib/python3.7/site-packages (5.4.0)\r\n",
      "Collecting nbformat\r\n",
      "  Downloading nbformat-5.7.1-py3-none-any.whl (77 kB)\r\n",
      "\u001b[2K     \u001b[90m━━━━━━━━━━━━━━━━━━━━━━━━━━━━━━━━━━━━━━━\u001b[0m \u001b[32m77.2/77.2 kB\u001b[0m \u001b[31m616.2 kB/s\u001b[0m eta \u001b[36m0:00:00\u001b[0m\r\n",
      "\u001b[?25hRequirement already satisfied: fastjsonschema in /opt/conda/lib/python3.7/site-packages (from nbformat) (2.15.3)\r\n",
      "Requirement already satisfied: traitlets>=5.1 in /opt/conda/lib/python3.7/site-packages (from nbformat) (5.3.0)\r\n",
      "Requirement already satisfied: jsonschema>=2.6 in /opt/conda/lib/python3.7/site-packages (from nbformat) (4.6.1)\r\n",
      "Requirement already satisfied: jupyter-core in /opt/conda/lib/python3.7/site-packages (from nbformat) (4.10.0)\r\n",
      "Requirement already satisfied: importlib-metadata>=3.6 in /opt/conda/lib/python3.7/site-packages (from nbformat) (4.13.0)\r\n",
      "Requirement already satisfied: typing-extensions>=3.6.4 in /opt/conda/lib/python3.7/site-packages (from importlib-metadata>=3.6->nbformat) (4.4.0)\r\n",
      "Requirement already satisfied: zipp>=0.5 in /opt/conda/lib/python3.7/site-packages (from importlib-metadata>=3.6->nbformat) (3.8.0)\r\n",
      "Requirement already satisfied: importlib-resources>=1.4.0 in /opt/conda/lib/python3.7/site-packages (from jsonschema>=2.6->nbformat) (5.8.0)\r\n",
      "Requirement already satisfied: attrs>=17.4.0 in /opt/conda/lib/python3.7/site-packages (from jsonschema>=2.6->nbformat) (21.4.0)\r\n",
      "Requirement already satisfied: pyrsistent!=0.17.0,!=0.17.1,!=0.17.2,>=0.14.0 in /opt/conda/lib/python3.7/site-packages (from jsonschema>=2.6->nbformat) (0.18.1)\r\n",
      "Installing collected packages: nbformat\r\n",
      "  Attempting uninstall: nbformat\r\n",
      "    Found existing installation: nbformat 5.4.0\r\n",
      "    Uninstalling nbformat-5.4.0:\r\n",
      "      Successfully uninstalled nbformat-5.4.0\r\n",
      "\u001b[31mERROR: pip's dependency resolver does not currently take into account all the packages that are installed. This behaviour is the source of the following dependency conflicts.\r\n",
      "beatrix-jupyterlab 3.1.7 requires google-cloud-bigquery-storage, which is not installed.\u001b[0m\u001b[31m\r\n",
      "\u001b[0mSuccessfully installed nbformat-5.7.1\r\n",
      "\u001b[33mWARNING: Running pip as the 'root' user can result in broken permissions and conflicting behaviour with the system package manager. It is recommended to use a virtual environment instead: https://pip.pypa.io/warnings/venv\u001b[0m\u001b[33m\r\n",
      "\u001b[0m"
     ]
    }
   ],
   "source": [
    "# Uncomment following lines to install plotly if it's not installed \n",
    "\n",
    "!pip install plotly\n",
    "!pip install --upgrade nbformat"
   ]
  },
  {
   "cell_type": "markdown",
   "id": "b35da547",
   "metadata": {
    "papermill": {
     "duration": 0.012707,
     "end_time": "2023-01-07T07:06:58.303073",
     "exception": false,
     "start_time": "2023-01-07T07:06:58.290366",
     "status": "completed"
    },
    "tags": []
   },
   "source": [
    "# Load required libraries"
   ]
  },
  {
   "cell_type": "code",
   "execution_count": 2,
   "id": "641c7d78",
   "metadata": {
    "execution": {
     "iopub.execute_input": "2023-01-07T07:06:58.336771Z",
     "iopub.status.busy": "2023-01-07T07:06:58.335168Z",
     "iopub.status.idle": "2023-01-07T07:07:01.701423Z",
     "shell.execute_reply": "2023-01-07T07:07:01.699954Z"
    },
    "papermill": {
     "duration": 3.388043,
     "end_time": "2023-01-07T07:07:01.704681",
     "exception": false,
     "start_time": "2023-01-07T07:06:58.316638",
     "status": "completed"
    },
    "tags": []
   },
   "outputs": [],
   "source": [
    "import pandas as pd\n",
    "import numpy as np\n",
    "from sklearn.model_selection import train_test_split\n",
    "from sklearn.metrics import fbeta_score\n",
    "from sklearn.preprocessing import LabelEncoder\n",
    "from sklearn.linear_model import LogisticRegression\n",
    "from sklearn.tree import DecisionTreeClassifier\n",
    "from sklearn.ensemble import RandomForestClassifier\n",
    "from collections import defaultdict\n",
    "import plotly.express as px"
   ]
  },
  {
   "cell_type": "code",
   "execution_count": null,
   "id": "98d5177c",
   "metadata": {
    "papermill": {
     "duration": 0.010934,
     "end_time": "2023-01-07T07:07:01.726821",
     "exception": false,
     "start_time": "2023-01-07T07:07:01.715887",
     "status": "completed"
    },
    "tags": []
   },
   "outputs": [],
   "source": []
  },
  {
   "cell_type": "markdown",
   "id": "6514b9a6",
   "metadata": {
    "papermill": {
     "duration": 0.011451,
     "end_time": "2023-01-07T07:07:01.749952",
     "exception": false,
     "start_time": "2023-01-07T07:07:01.738501",
     "status": "completed"
    },
    "tags": []
   },
   "source": [
    "# SEED Everything : for reproducibility "
   ]
  },
  {
   "cell_type": "code",
   "execution_count": 3,
   "id": "320354ed",
   "metadata": {
    "execution": {
     "iopub.execute_input": "2023-01-07T07:07:01.775922Z",
     "iopub.status.busy": "2023-01-07T07:07:01.775446Z",
     "iopub.status.idle": "2023-01-07T07:07:01.782888Z",
     "shell.execute_reply": "2023-01-07T07:07:01.781456Z"
    },
    "papermill": {
     "duration": 0.02435,
     "end_time": "2023-01-07T07:07:01.785814",
     "exception": false,
     "start_time": "2023-01-07T07:07:01.761464",
     "status": "completed"
    },
    "tags": []
   },
   "outputs": [],
   "source": [
    "SEED = 42\n",
    "\n",
    "def seed_everything(seed = 42):\n",
    "    import random, os\n",
    "    import numpy as np\n",
    "    \n",
    "    random.seed(seed)\n",
    "    os.environ['PYTHONHASHSEED'] = str(seed)\n",
    "    np.random.seed(seed)\n",
    "    \n",
    "seed_everything(SEED)"
   ]
  },
  {
   "cell_type": "markdown",
   "id": "42aa2234",
   "metadata": {
    "papermill": {
     "duration": 0.011137,
     "end_time": "2023-01-07T07:07:01.808973",
     "exception": false,
     "start_time": "2023-01-07T07:07:01.797836",
     "status": "completed"
    },
    "tags": []
   },
   "source": [
    "# Load dataset "
   ]
  },
  {
   "cell_type": "code",
   "execution_count": 4,
   "id": "e2de6a3d",
   "metadata": {
    "execution": {
     "iopub.execute_input": "2023-01-07T07:07:01.834262Z",
     "iopub.status.busy": "2023-01-07T07:07:01.833788Z",
     "iopub.status.idle": "2023-01-07T07:07:06.824515Z",
     "shell.execute_reply": "2023-01-07T07:07:06.823164Z"
    },
    "papermill": {
     "duration": 5.007341,
     "end_time": "2023-01-07T07:07:06.828143",
     "exception": false,
     "start_time": "2023-01-07T07:07:01.820802",
     "status": "completed"
    },
    "tags": []
   },
   "outputs": [],
   "source": [
    "train_df = pd.read_csv('../input/kagglex-bipoc-2022-2023-ml-foundation/Train.csv')\n",
    "test_df = pd.read_csv('../input/kagglex-bipoc-2022-2023-ml-foundation/Test.csv')\n",
    "sample_sub = pd.read_csv('../input/kagglex-bipoc-2022-2023-ml-foundation/Sample_submission.csv')"
   ]
  },
  {
   "cell_type": "code",
   "execution_count": 5,
   "id": "2c34f387",
   "metadata": {
    "execution": {
     "iopub.execute_input": "2023-01-07T07:07:06.855119Z",
     "iopub.status.busy": "2023-01-07T07:07:06.854614Z",
     "iopub.status.idle": "2023-01-07T07:07:06.900016Z",
     "shell.execute_reply": "2023-01-07T07:07:06.898083Z"
    },
    "papermill": {
     "duration": 0.063652,
     "end_time": "2023-01-07T07:07:06.903934",
     "exception": false,
     "start_time": "2023-01-07T07:07:06.840282",
     "status": "completed"
    },
    "tags": []
   },
   "outputs": [
    {
     "data": {
      "text/html": [
       "<div>\n",
       "<style scoped>\n",
       "    .dataframe tbody tr th:only-of-type {\n",
       "        vertical-align: middle;\n",
       "    }\n",
       "\n",
       "    .dataframe tbody tr th {\n",
       "        vertical-align: top;\n",
       "    }\n",
       "\n",
       "    .dataframe thead th {\n",
       "        text-align: right;\n",
       "    }\n",
       "</style>\n",
       "<table border=\"1\" class=\"dataframe\">\n",
       "  <thead>\n",
       "    <tr style=\"text-align: right;\">\n",
       "      <th></th>\n",
       "      <th>ID</th>\n",
       "      <th>AAGE</th>\n",
       "      <th>ACLSWKR</th>\n",
       "      <th>ADTIND</th>\n",
       "      <th>ADTOCC</th>\n",
       "      <th>AHGA</th>\n",
       "      <th>AHRSPAY</th>\n",
       "      <th>AHSCOL</th>\n",
       "      <th>AMARITL</th>\n",
       "      <th>AMJIND</th>\n",
       "      <th>...</th>\n",
       "      <th>PEFNTVTY</th>\n",
       "      <th>PEMNTVTY</th>\n",
       "      <th>PENATVTY</th>\n",
       "      <th>PRCITSHP</th>\n",
       "      <th>SEOTR</th>\n",
       "      <th>VETQVA</th>\n",
       "      <th>VETYN</th>\n",
       "      <th>WKSWORK</th>\n",
       "      <th>YEAR</th>\n",
       "      <th>TARGET</th>\n",
       "    </tr>\n",
       "  </thead>\n",
       "  <tbody>\n",
       "    <tr>\n",
       "      <th>0</th>\n",
       "      <td>shydl6zxik4o</td>\n",
       "      <td>22</td>\n",
       "      <td>Not in universe</td>\n",
       "      <td>0</td>\n",
       "      <td>0</td>\n",
       "      <td>High school graduate</td>\n",
       "      <td>0</td>\n",
       "      <td>Not in universe</td>\n",
       "      <td>Divorced</td>\n",
       "      <td>Not in universe or children</td>\n",
       "      <td>...</td>\n",
       "      <td>United-States</td>\n",
       "      <td>United-States</td>\n",
       "      <td>United-States</td>\n",
       "      <td>Native- Born in the United States</td>\n",
       "      <td>2</td>\n",
       "      <td>Not in universe</td>\n",
       "      <td>2</td>\n",
       "      <td>36</td>\n",
       "      <td>1995</td>\n",
       "      <td>0</td>\n",
       "    </tr>\n",
       "    <tr>\n",
       "      <th>1</th>\n",
       "      <td>2dhm421r62rr</td>\n",
       "      <td>37</td>\n",
       "      <td>Private</td>\n",
       "      <td>35</td>\n",
       "      <td>33</td>\n",
       "      <td>Some college but no degree</td>\n",
       "      <td>0</td>\n",
       "      <td>Not in universe</td>\n",
       "      <td>Divorced</td>\n",
       "      <td>Finance insurance and real estate</td>\n",
       "      <td>...</td>\n",
       "      <td>United-States</td>\n",
       "      <td>United-States</td>\n",
       "      <td>United-States</td>\n",
       "      <td>Native- Born in the United States</td>\n",
       "      <td>2</td>\n",
       "      <td>Not in universe</td>\n",
       "      <td>2</td>\n",
       "      <td>47</td>\n",
       "      <td>1995</td>\n",
       "      <td>0</td>\n",
       "    </tr>\n",
       "    <tr>\n",
       "      <th>2</th>\n",
       "      <td>ys7nzza2hffj</td>\n",
       "      <td>83</td>\n",
       "      <td>Not in universe</td>\n",
       "      <td>0</td>\n",
       "      <td>0</td>\n",
       "      <td>1st 2nd 3rd or 4th grade</td>\n",
       "      <td>0</td>\n",
       "      <td>Not in universe</td>\n",
       "      <td>Widowed</td>\n",
       "      <td>Not in universe or children</td>\n",
       "      <td>...</td>\n",
       "      <td>Puerto-Rico</td>\n",
       "      <td>Puerto-Rico</td>\n",
       "      <td>Puerto-Rico</td>\n",
       "      <td>Native- Born in Puerto Rico or U S Outlying</td>\n",
       "      <td>0</td>\n",
       "      <td>Not in universe</td>\n",
       "      <td>2</td>\n",
       "      <td>0</td>\n",
       "      <td>1995</td>\n",
       "      <td>0</td>\n",
       "    </tr>\n",
       "    <tr>\n",
       "      <th>3</th>\n",
       "      <td>iqrpxh3sr7n1</td>\n",
       "      <td>46</td>\n",
       "      <td>Private</td>\n",
       "      <td>32</td>\n",
       "      <td>35</td>\n",
       "      <td>High school graduate</td>\n",
       "      <td>0</td>\n",
       "      <td>Not in universe</td>\n",
       "      <td>Married-civilian spouse present</td>\n",
       "      <td>Wholesale trade</td>\n",
       "      <td>...</td>\n",
       "      <td>United-States</td>\n",
       "      <td>United-States</td>\n",
       "      <td>United-States</td>\n",
       "      <td>Native- Born in the United States</td>\n",
       "      <td>0</td>\n",
       "      <td>Not in universe</td>\n",
       "      <td>2</td>\n",
       "      <td>52</td>\n",
       "      <td>1995</td>\n",
       "      <td>0</td>\n",
       "    </tr>\n",
       "    <tr>\n",
       "      <th>4</th>\n",
       "      <td>rr8vlzk9iwyn</td>\n",
       "      <td>35</td>\n",
       "      <td>Private</td>\n",
       "      <td>34</td>\n",
       "      <td>26</td>\n",
       "      <td>Associates degree-academic program</td>\n",
       "      <td>0</td>\n",
       "      <td>Not in universe</td>\n",
       "      <td>Married-civilian spouse present</td>\n",
       "      <td>Finance insurance and real estate</td>\n",
       "      <td>...</td>\n",
       "      <td>United-States</td>\n",
       "      <td>United-States</td>\n",
       "      <td>United-States</td>\n",
       "      <td>Native- Born in the United States</td>\n",
       "      <td>0</td>\n",
       "      <td>Not in universe</td>\n",
       "      <td>2</td>\n",
       "      <td>45</td>\n",
       "      <td>1995</td>\n",
       "      <td>0</td>\n",
       "    </tr>\n",
       "  </tbody>\n",
       "</table>\n",
       "<p>5 rows × 42 columns</p>\n",
       "</div>"
      ],
      "text/plain": [
       "             ID  AAGE           ACLSWKR  ADTIND  ADTOCC  \\\n",
       "0  shydl6zxik4o    22   Not in universe       0       0   \n",
       "1  2dhm421r62rr    37           Private      35      33   \n",
       "2  ys7nzza2hffj    83   Not in universe       0       0   \n",
       "3  iqrpxh3sr7n1    46           Private      32      35   \n",
       "4  rr8vlzk9iwyn    35           Private      34      26   \n",
       "\n",
       "                                  AHGA  AHRSPAY            AHSCOL  \\\n",
       "0                 High school graduate        0   Not in universe   \n",
       "1           Some college but no degree        0   Not in universe   \n",
       "2             1st 2nd 3rd or 4th grade        0   Not in universe   \n",
       "3                 High school graduate        0   Not in universe   \n",
       "4   Associates degree-academic program        0   Not in universe   \n",
       "\n",
       "                            AMARITL                              AMJIND  ...  \\\n",
       "0                          Divorced         Not in universe or children  ...   \n",
       "1                          Divorced   Finance insurance and real estate  ...   \n",
       "2                           Widowed         Not in universe or children  ...   \n",
       "3   Married-civilian spouse present                     Wholesale trade  ...   \n",
       "4   Married-civilian spouse present   Finance insurance and real estate  ...   \n",
       "\n",
       "         PEFNTVTY        PEMNTVTY        PENATVTY  \\\n",
       "0   United-States   United-States   United-States   \n",
       "1   United-States   United-States   United-States   \n",
       "2     Puerto-Rico     Puerto-Rico     Puerto-Rico   \n",
       "3   United-States   United-States   United-States   \n",
       "4   United-States   United-States   United-States   \n",
       "\n",
       "                                       PRCITSHP SEOTR            VETQVA VETYN  \\\n",
       "0             Native- Born in the United States     2   Not in universe     2   \n",
       "1             Native- Born in the United States     2   Not in universe     2   \n",
       "2   Native- Born in Puerto Rico or U S Outlying     0   Not in universe     2   \n",
       "3             Native- Born in the United States     0   Not in universe     2   \n",
       "4             Native- Born in the United States     0   Not in universe     2   \n",
       "\n",
       "   WKSWORK  YEAR  TARGET  \n",
       "0       36  1995       0  \n",
       "1       47  1995       0  \n",
       "2        0  1995       0  \n",
       "3       52  1995       0  \n",
       "4       45  1995       0  \n",
       "\n",
       "[5 rows x 42 columns]"
      ]
     },
     "execution_count": 5,
     "metadata": {},
     "output_type": "execute_result"
    }
   ],
   "source": [
    "train_df.head()"
   ]
  },
  {
   "cell_type": "code",
   "execution_count": 6,
   "id": "aa136b4a",
   "metadata": {
    "execution": {
     "iopub.execute_input": "2023-01-07T07:07:06.929682Z",
     "iopub.status.busy": "2023-01-07T07:07:06.929182Z",
     "iopub.status.idle": "2023-01-07T07:07:07.170038Z",
     "shell.execute_reply": "2023-01-07T07:07:07.167649Z"
    },
    "papermill": {
     "duration": 0.257635,
     "end_time": "2023-01-07T07:07:07.173549",
     "exception": false,
     "start_time": "2023-01-07T07:07:06.915914",
     "status": "completed"
    },
    "tags": []
   },
   "outputs": [
    {
     "name": "stdout",
     "output_type": "stream",
     "text": [
      "<class 'pandas.core.frame.DataFrame'>\n",
      "RangeIndex: 157509 entries, 0 to 157508\n",
      "Data columns (total 42 columns):\n",
      " #   Column    Non-Null Count   Dtype \n",
      "---  ------    --------------   ----- \n",
      " 0   ID        157509 non-null  object\n",
      " 1   AAGE      157509 non-null  int64 \n",
      " 2   ACLSWKR   157509 non-null  object\n",
      " 3   ADTIND    157509 non-null  int64 \n",
      " 4   ADTOCC    157509 non-null  int64 \n",
      " 5   AHGA      157509 non-null  object\n",
      " 6   AHRSPAY   157509 non-null  int64 \n",
      " 7   AHSCOL    157509 non-null  object\n",
      " 8   AMARITL   157509 non-null  object\n",
      " 9   AMJIND    157509 non-null  object\n",
      " 10  AMJOCC    157509 non-null  object\n",
      " 11  ARACE     157509 non-null  object\n",
      " 12  AREORGN   157509 non-null  object\n",
      " 13  ASEX      157509 non-null  object\n",
      " 14  AUNMEM    157509 non-null  object\n",
      " 15  AUNTYPE   157509 non-null  object\n",
      " 16  AWKSTAT   157509 non-null  object\n",
      " 17  CAPGAIN   157509 non-null  int64 \n",
      " 18  CAPLOSS   157509 non-null  int64 \n",
      " 19  DIVVAL    157509 non-null  int64 \n",
      " 20  FILESTAT  157509 non-null  object\n",
      " 21  GRINREG   157509 non-null  object\n",
      " 22  GRINST    156809 non-null  object\n",
      " 23  HHDFMX    157509 non-null  object\n",
      " 24  HHDREL    157509 non-null  object\n",
      " 25  MIGMTR1   80189 non-null   object\n",
      " 26  MIGMTR3   80189 non-null   object\n",
      " 27  MIGMTR4   80189 non-null   object\n",
      " 28  MIGSAME   157509 non-null  object\n",
      " 29  MIGSUN    80189 non-null   object\n",
      " 30  NOEMP     157509 non-null  int64 \n",
      " 31  PARENT    157509 non-null  object\n",
      " 32  PEFNTVTY  150906 non-null  object\n",
      " 33  PEMNTVTY  151501 non-null  object\n",
      " 34  PENATVTY  154013 non-null  object\n",
      " 35  PRCITSHP  157509 non-null  object\n",
      " 36  SEOTR     157509 non-null  int64 \n",
      " 37  VETQVA    157509 non-null  object\n",
      " 38  VETYN     157509 non-null  int64 \n",
      " 39  WKSWORK   157509 non-null  int64 \n",
      " 40  YEAR      157509 non-null  int64 \n",
      " 41  TARGET    157509 non-null  int64 \n",
      "dtypes: int64(13), object(29)\n",
      "memory usage: 50.5+ MB\n"
     ]
    }
   ],
   "source": [
    "train_df.info()"
   ]
  },
  {
   "cell_type": "markdown",
   "id": "bd5204df",
   "metadata": {
    "papermill": {
     "duration": 0.01085,
     "end_time": "2023-01-07T07:07:07.195862",
     "exception": false,
     "start_time": "2023-01-07T07:07:07.185012",
     "status": "completed"
    },
    "tags": []
   },
   "source": [
    "# Missing value ayalysis"
   ]
  },
  {
   "cell_type": "code",
   "execution_count": 7,
   "id": "d12522e5",
   "metadata": {
    "execution": {
     "iopub.execute_input": "2023-01-07T07:07:07.222440Z",
     "iopub.status.busy": "2023-01-07T07:07:07.221948Z",
     "iopub.status.idle": "2023-01-07T07:07:07.429918Z",
     "shell.execute_reply": "2023-01-07T07:07:07.428496Z"
    },
    "papermill": {
     "duration": 0.224101,
     "end_time": "2023-01-07T07:07:07.433165",
     "exception": false,
     "start_time": "2023-01-07T07:07:07.209064",
     "status": "completed"
    },
    "tags": []
   },
   "outputs": [],
   "source": [
    "missing_values_info = train_df.isnull().sum() / len(train_df)"
   ]
  },
  {
   "cell_type": "code",
   "execution_count": 8,
   "id": "2ef6b520",
   "metadata": {
    "execution": {
     "iopub.execute_input": "2023-01-07T07:07:07.458293Z",
     "iopub.status.busy": "2023-01-07T07:07:07.457851Z",
     "iopub.status.idle": "2023-01-07T07:07:07.467328Z",
     "shell.execute_reply": "2023-01-07T07:07:07.465768Z"
    },
    "papermill": {
     "duration": 0.025378,
     "end_time": "2023-01-07T07:07:07.470073",
     "exception": false,
     "start_time": "2023-01-07T07:07:07.444695",
     "status": "completed"
    },
    "tags": []
   },
   "outputs": [],
   "source": [
    "missing_values_info_df = pd.DataFrame()\n",
    "missing_values_info_df['features'] = missing_values_info.index\n",
    "missing_values_info_df['missing_values'] = missing_values_info.values"
   ]
  },
  {
   "cell_type": "markdown",
   "id": "c51cc520",
   "metadata": {
    "papermill": {
     "duration": 0.010985,
     "end_time": "2023-01-07T07:07:07.492938",
     "exception": false,
     "start_time": "2023-01-07T07:07:07.481953",
     "status": "completed"
    },
    "tags": []
   },
   "source": [
    "### Using plotly-express for interactive graphs. \n",
    "[https://plotly.com/python/plotly-express/](https://plotly.com/python/plotly-express/)"
   ]
  },
  {
   "cell_type": "code",
   "execution_count": 9,
   "id": "4b2b576d",
   "metadata": {
    "execution": {
     "iopub.execute_input": "2023-01-07T07:07:07.518420Z",
     "iopub.status.busy": "2023-01-07T07:07:07.517968Z",
     "iopub.status.idle": "2023-01-07T07:07:09.613279Z",
     "shell.execute_reply": "2023-01-07T07:07:09.611631Z"
    },
    "papermill": {
     "duration": 2.111647,
     "end_time": "2023-01-07T07:07:09.616388",
     "exception": false,
     "start_time": "2023-01-07T07:07:07.504741",
     "status": "completed"
    },
    "tags": []
   },
   "outputs": [
    {
     "data": {
      "text/html": [
       "        <script type=\"text/javascript\">\n",
       "        window.PlotlyConfig = {MathJaxConfig: 'local'};\n",
       "        if (window.MathJax && window.MathJax.Hub && window.MathJax.Hub.Config) {window.MathJax.Hub.Config({SVG: {font: \"STIX-Web\"}});}\n",
       "        if (typeof require !== 'undefined') {\n",
       "        require.undef(\"plotly\");\n",
       "        requirejs.config({\n",
       "            paths: {\n",
       "                'plotly': ['https://cdn.plot.ly/plotly-2.14.0.min']\n",
       "            }\n",
       "        });\n",
       "        require(['plotly'], function(Plotly) {\n",
       "            window._Plotly = Plotly;\n",
       "        });\n",
       "        }\n",
       "        </script>\n",
       "        "
      ]
     },
     "metadata": {},
     "output_type": "display_data"
    },
    {
     "data": {
      "text/html": [
       "<div>                            <div id=\"1e18ee2c-d0c5-469f-956c-3a97e6b9c31a\" class=\"plotly-graph-div\" style=\"height:525px; width:100%;\"></div>            <script type=\"text/javascript\">                require([\"plotly\"], function(Plotly) {                    window.PLOTLYENV=window.PLOTLYENV || {};                                    if (document.getElementById(\"1e18ee2c-d0c5-469f-956c-3a97e6b9c31a\")) {                    Plotly.newPlot(                        \"1e18ee2c-d0c5-469f-956c-3a97e6b9c31a\",                        [{\"alignmentgroup\":\"True\",\"hovertemplate\":\"features=%{y}<br>missing_values=%{x}<extra></extra>\",\"legendgroup\":\"ID\",\"marker\":{\"color\":\"#636efa\",\"pattern\":{\"shape\":\"\"}},\"name\":\"ID\",\"offsetgroup\":\"ID\",\"orientation\":\"h\",\"showlegend\":true,\"textposition\":\"auto\",\"x\":[0.0],\"xaxis\":\"x\",\"y\":[\"ID\"],\"yaxis\":\"y\",\"type\":\"bar\"},{\"alignmentgroup\":\"True\",\"hovertemplate\":\"features=%{y}<br>missing_values=%{x}<extra></extra>\",\"legendgroup\":\"AAGE\",\"marker\":{\"color\":\"#EF553B\",\"pattern\":{\"shape\":\"\"}},\"name\":\"AAGE\",\"offsetgroup\":\"AAGE\",\"orientation\":\"h\",\"showlegend\":true,\"textposition\":\"auto\",\"x\":[0.0],\"xaxis\":\"x\",\"y\":[\"AAGE\"],\"yaxis\":\"y\",\"type\":\"bar\"},{\"alignmentgroup\":\"True\",\"hovertemplate\":\"features=%{y}<br>missing_values=%{x}<extra></extra>\",\"legendgroup\":\"ACLSWKR\",\"marker\":{\"color\":\"#00cc96\",\"pattern\":{\"shape\":\"\"}},\"name\":\"ACLSWKR\",\"offsetgroup\":\"ACLSWKR\",\"orientation\":\"h\",\"showlegend\":true,\"textposition\":\"auto\",\"x\":[0.0],\"xaxis\":\"x\",\"y\":[\"ACLSWKR\"],\"yaxis\":\"y\",\"type\":\"bar\"},{\"alignmentgroup\":\"True\",\"hovertemplate\":\"features=%{y}<br>missing_values=%{x}<extra></extra>\",\"legendgroup\":\"ADTIND\",\"marker\":{\"color\":\"#ab63fa\",\"pattern\":{\"shape\":\"\"}},\"name\":\"ADTIND\",\"offsetgroup\":\"ADTIND\",\"orientation\":\"h\",\"showlegend\":true,\"textposition\":\"auto\",\"x\":[0.0],\"xaxis\":\"x\",\"y\":[\"ADTIND\"],\"yaxis\":\"y\",\"type\":\"bar\"},{\"alignmentgroup\":\"True\",\"hovertemplate\":\"features=%{y}<br>missing_values=%{x}<extra></extra>\",\"legendgroup\":\"ADTOCC\",\"marker\":{\"color\":\"#FFA15A\",\"pattern\":{\"shape\":\"\"}},\"name\":\"ADTOCC\",\"offsetgroup\":\"ADTOCC\",\"orientation\":\"h\",\"showlegend\":true,\"textposition\":\"auto\",\"x\":[0.0],\"xaxis\":\"x\",\"y\":[\"ADTOCC\"],\"yaxis\":\"y\",\"type\":\"bar\"},{\"alignmentgroup\":\"True\",\"hovertemplate\":\"features=%{y}<br>missing_values=%{x}<extra></extra>\",\"legendgroup\":\"AHGA\",\"marker\":{\"color\":\"#19d3f3\",\"pattern\":{\"shape\":\"\"}},\"name\":\"AHGA\",\"offsetgroup\":\"AHGA\",\"orientation\":\"h\",\"showlegend\":true,\"textposition\":\"auto\",\"x\":[0.0],\"xaxis\":\"x\",\"y\":[\"AHGA\"],\"yaxis\":\"y\",\"type\":\"bar\"},{\"alignmentgroup\":\"True\",\"hovertemplate\":\"features=%{y}<br>missing_values=%{x}<extra></extra>\",\"legendgroup\":\"AHRSPAY\",\"marker\":{\"color\":\"#FF6692\",\"pattern\":{\"shape\":\"\"}},\"name\":\"AHRSPAY\",\"offsetgroup\":\"AHRSPAY\",\"orientation\":\"h\",\"showlegend\":true,\"textposition\":\"auto\",\"x\":[0.0],\"xaxis\":\"x\",\"y\":[\"AHRSPAY\"],\"yaxis\":\"y\",\"type\":\"bar\"},{\"alignmentgroup\":\"True\",\"hovertemplate\":\"features=%{y}<br>missing_values=%{x}<extra></extra>\",\"legendgroup\":\"AHSCOL\",\"marker\":{\"color\":\"#B6E880\",\"pattern\":{\"shape\":\"\"}},\"name\":\"AHSCOL\",\"offsetgroup\":\"AHSCOL\",\"orientation\":\"h\",\"showlegend\":true,\"textposition\":\"auto\",\"x\":[0.0],\"xaxis\":\"x\",\"y\":[\"AHSCOL\"],\"yaxis\":\"y\",\"type\":\"bar\"},{\"alignmentgroup\":\"True\",\"hovertemplate\":\"features=%{y}<br>missing_values=%{x}<extra></extra>\",\"legendgroup\":\"AMARITL\",\"marker\":{\"color\":\"#FF97FF\",\"pattern\":{\"shape\":\"\"}},\"name\":\"AMARITL\",\"offsetgroup\":\"AMARITL\",\"orientation\":\"h\",\"showlegend\":true,\"textposition\":\"auto\",\"x\":[0.0],\"xaxis\":\"x\",\"y\":[\"AMARITL\"],\"yaxis\":\"y\",\"type\":\"bar\"},{\"alignmentgroup\":\"True\",\"hovertemplate\":\"features=%{y}<br>missing_values=%{x}<extra></extra>\",\"legendgroup\":\"AMJIND\",\"marker\":{\"color\":\"#FECB52\",\"pattern\":{\"shape\":\"\"}},\"name\":\"AMJIND\",\"offsetgroup\":\"AMJIND\",\"orientation\":\"h\",\"showlegend\":true,\"textposition\":\"auto\",\"x\":[0.0],\"xaxis\":\"x\",\"y\":[\"AMJIND\"],\"yaxis\":\"y\",\"type\":\"bar\"},{\"alignmentgroup\":\"True\",\"hovertemplate\":\"features=%{y}<br>missing_values=%{x}<extra></extra>\",\"legendgroup\":\"AMJOCC\",\"marker\":{\"color\":\"#636efa\",\"pattern\":{\"shape\":\"\"}},\"name\":\"AMJOCC\",\"offsetgroup\":\"AMJOCC\",\"orientation\":\"h\",\"showlegend\":true,\"textposition\":\"auto\",\"x\":[0.0],\"xaxis\":\"x\",\"y\":[\"AMJOCC\"],\"yaxis\":\"y\",\"type\":\"bar\"},{\"alignmentgroup\":\"True\",\"hovertemplate\":\"features=%{y}<br>missing_values=%{x}<extra></extra>\",\"legendgroup\":\"ARACE\",\"marker\":{\"color\":\"#EF553B\",\"pattern\":{\"shape\":\"\"}},\"name\":\"ARACE\",\"offsetgroup\":\"ARACE\",\"orientation\":\"h\",\"showlegend\":true,\"textposition\":\"auto\",\"x\":[0.0],\"xaxis\":\"x\",\"y\":[\"ARACE\"],\"yaxis\":\"y\",\"type\":\"bar\"},{\"alignmentgroup\":\"True\",\"hovertemplate\":\"features=%{y}<br>missing_values=%{x}<extra></extra>\",\"legendgroup\":\"AREORGN\",\"marker\":{\"color\":\"#00cc96\",\"pattern\":{\"shape\":\"\"}},\"name\":\"AREORGN\",\"offsetgroup\":\"AREORGN\",\"orientation\":\"h\",\"showlegend\":true,\"textposition\":\"auto\",\"x\":[0.0],\"xaxis\":\"x\",\"y\":[\"AREORGN\"],\"yaxis\":\"y\",\"type\":\"bar\"},{\"alignmentgroup\":\"True\",\"hovertemplate\":\"features=%{y}<br>missing_values=%{x}<extra></extra>\",\"legendgroup\":\"ASEX\",\"marker\":{\"color\":\"#ab63fa\",\"pattern\":{\"shape\":\"\"}},\"name\":\"ASEX\",\"offsetgroup\":\"ASEX\",\"orientation\":\"h\",\"showlegend\":true,\"textposition\":\"auto\",\"x\":[0.0],\"xaxis\":\"x\",\"y\":[\"ASEX\"],\"yaxis\":\"y\",\"type\":\"bar\"},{\"alignmentgroup\":\"True\",\"hovertemplate\":\"features=%{y}<br>missing_values=%{x}<extra></extra>\",\"legendgroup\":\"AUNMEM\",\"marker\":{\"color\":\"#FFA15A\",\"pattern\":{\"shape\":\"\"}},\"name\":\"AUNMEM\",\"offsetgroup\":\"AUNMEM\",\"orientation\":\"h\",\"showlegend\":true,\"textposition\":\"auto\",\"x\":[0.0],\"xaxis\":\"x\",\"y\":[\"AUNMEM\"],\"yaxis\":\"y\",\"type\":\"bar\"},{\"alignmentgroup\":\"True\",\"hovertemplate\":\"features=%{y}<br>missing_values=%{x}<extra></extra>\",\"legendgroup\":\"AUNTYPE\",\"marker\":{\"color\":\"#19d3f3\",\"pattern\":{\"shape\":\"\"}},\"name\":\"AUNTYPE\",\"offsetgroup\":\"AUNTYPE\",\"orientation\":\"h\",\"showlegend\":true,\"textposition\":\"auto\",\"x\":[0.0],\"xaxis\":\"x\",\"y\":[\"AUNTYPE\"],\"yaxis\":\"y\",\"type\":\"bar\"},{\"alignmentgroup\":\"True\",\"hovertemplate\":\"features=%{y}<br>missing_values=%{x}<extra></extra>\",\"legendgroup\":\"AWKSTAT\",\"marker\":{\"color\":\"#FF6692\",\"pattern\":{\"shape\":\"\"}},\"name\":\"AWKSTAT\",\"offsetgroup\":\"AWKSTAT\",\"orientation\":\"h\",\"showlegend\":true,\"textposition\":\"auto\",\"x\":[0.0],\"xaxis\":\"x\",\"y\":[\"AWKSTAT\"],\"yaxis\":\"y\",\"type\":\"bar\"},{\"alignmentgroup\":\"True\",\"hovertemplate\":\"features=%{y}<br>missing_values=%{x}<extra></extra>\",\"legendgroup\":\"CAPGAIN\",\"marker\":{\"color\":\"#B6E880\",\"pattern\":{\"shape\":\"\"}},\"name\":\"CAPGAIN\",\"offsetgroup\":\"CAPGAIN\",\"orientation\":\"h\",\"showlegend\":true,\"textposition\":\"auto\",\"x\":[0.0],\"xaxis\":\"x\",\"y\":[\"CAPGAIN\"],\"yaxis\":\"y\",\"type\":\"bar\"},{\"alignmentgroup\":\"True\",\"hovertemplate\":\"features=%{y}<br>missing_values=%{x}<extra></extra>\",\"legendgroup\":\"CAPLOSS\",\"marker\":{\"color\":\"#FF97FF\",\"pattern\":{\"shape\":\"\"}},\"name\":\"CAPLOSS\",\"offsetgroup\":\"CAPLOSS\",\"orientation\":\"h\",\"showlegend\":true,\"textposition\":\"auto\",\"x\":[0.0],\"xaxis\":\"x\",\"y\":[\"CAPLOSS\"],\"yaxis\":\"y\",\"type\":\"bar\"},{\"alignmentgroup\":\"True\",\"hovertemplate\":\"features=%{y}<br>missing_values=%{x}<extra></extra>\",\"legendgroup\":\"DIVVAL\",\"marker\":{\"color\":\"#FECB52\",\"pattern\":{\"shape\":\"\"}},\"name\":\"DIVVAL\",\"offsetgroup\":\"DIVVAL\",\"orientation\":\"h\",\"showlegend\":true,\"textposition\":\"auto\",\"x\":[0.0],\"xaxis\":\"x\",\"y\":[\"DIVVAL\"],\"yaxis\":\"y\",\"type\":\"bar\"},{\"alignmentgroup\":\"True\",\"hovertemplate\":\"features=%{y}<br>missing_values=%{x}<extra></extra>\",\"legendgroup\":\"FILESTAT\",\"marker\":{\"color\":\"#636efa\",\"pattern\":{\"shape\":\"\"}},\"name\":\"FILESTAT\",\"offsetgroup\":\"FILESTAT\",\"orientation\":\"h\",\"showlegend\":true,\"textposition\":\"auto\",\"x\":[0.0],\"xaxis\":\"x\",\"y\":[\"FILESTAT\"],\"yaxis\":\"y\",\"type\":\"bar\"},{\"alignmentgroup\":\"True\",\"hovertemplate\":\"features=%{y}<br>missing_values=%{x}<extra></extra>\",\"legendgroup\":\"GRINREG\",\"marker\":{\"color\":\"#EF553B\",\"pattern\":{\"shape\":\"\"}},\"name\":\"GRINREG\",\"offsetgroup\":\"GRINREG\",\"orientation\":\"h\",\"showlegend\":true,\"textposition\":\"auto\",\"x\":[0.0],\"xaxis\":\"x\",\"y\":[\"GRINREG\"],\"yaxis\":\"y\",\"type\":\"bar\"},{\"alignmentgroup\":\"True\",\"hovertemplate\":\"features=%{y}<br>missing_values=%{x}<extra></extra>\",\"legendgroup\":\"GRINST\",\"marker\":{\"color\":\"#00cc96\",\"pattern\":{\"shape\":\"\"}},\"name\":\"GRINST\",\"offsetgroup\":\"GRINST\",\"orientation\":\"h\",\"showlegend\":true,\"textposition\":\"auto\",\"x\":[0.0044441904907021185],\"xaxis\":\"x\",\"y\":[\"GRINST\"],\"yaxis\":\"y\",\"type\":\"bar\"},{\"alignmentgroup\":\"True\",\"hovertemplate\":\"features=%{y}<br>missing_values=%{x}<extra></extra>\",\"legendgroup\":\"HHDFMX\",\"marker\":{\"color\":\"#ab63fa\",\"pattern\":{\"shape\":\"\"}},\"name\":\"HHDFMX\",\"offsetgroup\":\"HHDFMX\",\"orientation\":\"h\",\"showlegend\":true,\"textposition\":\"auto\",\"x\":[0.0],\"xaxis\":\"x\",\"y\":[\"HHDFMX\"],\"yaxis\":\"y\",\"type\":\"bar\"},{\"alignmentgroup\":\"True\",\"hovertemplate\":\"features=%{y}<br>missing_values=%{x}<extra></extra>\",\"legendgroup\":\"HHDREL\",\"marker\":{\"color\":\"#FFA15A\",\"pattern\":{\"shape\":\"\"}},\"name\":\"HHDREL\",\"offsetgroup\":\"HHDREL\",\"orientation\":\"h\",\"showlegend\":true,\"textposition\":\"auto\",\"x\":[0.0],\"xaxis\":\"x\",\"y\":[\"HHDREL\"],\"yaxis\":\"y\",\"type\":\"bar\"},{\"alignmentgroup\":\"True\",\"hovertemplate\":\"features=%{y}<br>missing_values=%{x}<extra></extra>\",\"legendgroup\":\"MIGMTR1\",\"marker\":{\"color\":\"#19d3f3\",\"pattern\":{\"shape\":\"\"}},\"name\":\"MIGMTR1\",\"offsetgroup\":\"MIGMTR1\",\"orientation\":\"h\",\"showlegend\":true,\"textposition\":\"auto\",\"x\":[0.49089258391583973],\"xaxis\":\"x\",\"y\":[\"MIGMTR1\"],\"yaxis\":\"y\",\"type\":\"bar\"},{\"alignmentgroup\":\"True\",\"hovertemplate\":\"features=%{y}<br>missing_values=%{x}<extra></extra>\",\"legendgroup\":\"MIGMTR3\",\"marker\":{\"color\":\"#FF6692\",\"pattern\":{\"shape\":\"\"}},\"name\":\"MIGMTR3\",\"offsetgroup\":\"MIGMTR3\",\"orientation\":\"h\",\"showlegend\":true,\"textposition\":\"auto\",\"x\":[0.49089258391583973],\"xaxis\":\"x\",\"y\":[\"MIGMTR3\"],\"yaxis\":\"y\",\"type\":\"bar\"},{\"alignmentgroup\":\"True\",\"hovertemplate\":\"features=%{y}<br>missing_values=%{x}<extra></extra>\",\"legendgroup\":\"MIGMTR4\",\"marker\":{\"color\":\"#B6E880\",\"pattern\":{\"shape\":\"\"}},\"name\":\"MIGMTR4\",\"offsetgroup\":\"MIGMTR4\",\"orientation\":\"h\",\"showlegend\":true,\"textposition\":\"auto\",\"x\":[0.49089258391583973],\"xaxis\":\"x\",\"y\":[\"MIGMTR4\"],\"yaxis\":\"y\",\"type\":\"bar\"},{\"alignmentgroup\":\"True\",\"hovertemplate\":\"features=%{y}<br>missing_values=%{x}<extra></extra>\",\"legendgroup\":\"MIGSAME\",\"marker\":{\"color\":\"#FF97FF\",\"pattern\":{\"shape\":\"\"}},\"name\":\"MIGSAME\",\"offsetgroup\":\"MIGSAME\",\"orientation\":\"h\",\"showlegend\":true,\"textposition\":\"auto\",\"x\":[0.0],\"xaxis\":\"x\",\"y\":[\"MIGSAME\"],\"yaxis\":\"y\",\"type\":\"bar\"},{\"alignmentgroup\":\"True\",\"hovertemplate\":\"features=%{y}<br>missing_values=%{x}<extra></extra>\",\"legendgroup\":\"MIGSUN\",\"marker\":{\"color\":\"#FECB52\",\"pattern\":{\"shape\":\"\"}},\"name\":\"MIGSUN\",\"offsetgroup\":\"MIGSUN\",\"orientation\":\"h\",\"showlegend\":true,\"textposition\":\"auto\",\"x\":[0.49089258391583973],\"xaxis\":\"x\",\"y\":[\"MIGSUN\"],\"yaxis\":\"y\",\"type\":\"bar\"},{\"alignmentgroup\":\"True\",\"hovertemplate\":\"features=%{y}<br>missing_values=%{x}<extra></extra>\",\"legendgroup\":\"NOEMP\",\"marker\":{\"color\":\"#636efa\",\"pattern\":{\"shape\":\"\"}},\"name\":\"NOEMP\",\"offsetgroup\":\"NOEMP\",\"orientation\":\"h\",\"showlegend\":true,\"textposition\":\"auto\",\"x\":[0.0],\"xaxis\":\"x\",\"y\":[\"NOEMP\"],\"yaxis\":\"y\",\"type\":\"bar\"},{\"alignmentgroup\":\"True\",\"hovertemplate\":\"features=%{y}<br>missing_values=%{x}<extra></extra>\",\"legendgroup\":\"PARENT\",\"marker\":{\"color\":\"#EF553B\",\"pattern\":{\"shape\":\"\"}},\"name\":\"PARENT\",\"offsetgroup\":\"PARENT\",\"orientation\":\"h\",\"showlegend\":true,\"textposition\":\"auto\",\"x\":[0.0],\"xaxis\":\"x\",\"y\":[\"PARENT\"],\"yaxis\":\"y\",\"type\":\"bar\"},{\"alignmentgroup\":\"True\",\"hovertemplate\":\"features=%{y}<br>missing_values=%{x}<extra></extra>\",\"legendgroup\":\"PEFNTVTY\",\"marker\":{\"color\":\"#00cc96\",\"pattern\":{\"shape\":\"\"}},\"name\":\"PEFNTVTY\",\"offsetgroup\":\"PEFNTVTY\",\"orientation\":\"h\",\"showlegend\":true,\"textposition\":\"auto\",\"x\":[0.04192141401443727],\"xaxis\":\"x\",\"y\":[\"PEFNTVTY\"],\"yaxis\":\"y\",\"type\":\"bar\"},{\"alignmentgroup\":\"True\",\"hovertemplate\":\"features=%{y}<br>missing_values=%{x}<extra></extra>\",\"legendgroup\":\"PEMNTVTY\",\"marker\":{\"color\":\"#ab63fa\",\"pattern\":{\"shape\":\"\"}},\"name\":\"PEMNTVTY\",\"offsetgroup\":\"PEMNTVTY\",\"orientation\":\"h\",\"showlegend\":true,\"textposition\":\"auto\",\"x\":[0.03814385209734047],\"xaxis\":\"x\",\"y\":[\"PEMNTVTY\"],\"yaxis\":\"y\",\"type\":\"bar\"},{\"alignmentgroup\":\"True\",\"hovertemplate\":\"features=%{y}<br>missing_values=%{x}<extra></extra>\",\"legendgroup\":\"PENATVTY\",\"marker\":{\"color\":\"#FFA15A\",\"pattern\":{\"shape\":\"\"}},\"name\":\"PENATVTY\",\"offsetgroup\":\"PENATVTY\",\"orientation\":\"h\",\"showlegend\":true,\"textposition\":\"auto\",\"x\":[0.02219555707927801],\"xaxis\":\"x\",\"y\":[\"PENATVTY\"],\"yaxis\":\"y\",\"type\":\"bar\"},{\"alignmentgroup\":\"True\",\"hovertemplate\":\"features=%{y}<br>missing_values=%{x}<extra></extra>\",\"legendgroup\":\"PRCITSHP\",\"marker\":{\"color\":\"#19d3f3\",\"pattern\":{\"shape\":\"\"}},\"name\":\"PRCITSHP\",\"offsetgroup\":\"PRCITSHP\",\"orientation\":\"h\",\"showlegend\":true,\"textposition\":\"auto\",\"x\":[0.0],\"xaxis\":\"x\",\"y\":[\"PRCITSHP\"],\"yaxis\":\"y\",\"type\":\"bar\"},{\"alignmentgroup\":\"True\",\"hovertemplate\":\"features=%{y}<br>missing_values=%{x}<extra></extra>\",\"legendgroup\":\"SEOTR\",\"marker\":{\"color\":\"#FF6692\",\"pattern\":{\"shape\":\"\"}},\"name\":\"SEOTR\",\"offsetgroup\":\"SEOTR\",\"orientation\":\"h\",\"showlegend\":true,\"textposition\":\"auto\",\"x\":[0.0],\"xaxis\":\"x\",\"y\":[\"SEOTR\"],\"yaxis\":\"y\",\"type\":\"bar\"},{\"alignmentgroup\":\"True\",\"hovertemplate\":\"features=%{y}<br>missing_values=%{x}<extra></extra>\",\"legendgroup\":\"VETQVA\",\"marker\":{\"color\":\"#B6E880\",\"pattern\":{\"shape\":\"\"}},\"name\":\"VETQVA\",\"offsetgroup\":\"VETQVA\",\"orientation\":\"h\",\"showlegend\":true,\"textposition\":\"auto\",\"x\":[0.0],\"xaxis\":\"x\",\"y\":[\"VETQVA\"],\"yaxis\":\"y\",\"type\":\"bar\"},{\"alignmentgroup\":\"True\",\"hovertemplate\":\"features=%{y}<br>missing_values=%{x}<extra></extra>\",\"legendgroup\":\"VETYN\",\"marker\":{\"color\":\"#FF97FF\",\"pattern\":{\"shape\":\"\"}},\"name\":\"VETYN\",\"offsetgroup\":\"VETYN\",\"orientation\":\"h\",\"showlegend\":true,\"textposition\":\"auto\",\"x\":[0.0],\"xaxis\":\"x\",\"y\":[\"VETYN\"],\"yaxis\":\"y\",\"type\":\"bar\"},{\"alignmentgroup\":\"True\",\"hovertemplate\":\"features=%{y}<br>missing_values=%{x}<extra></extra>\",\"legendgroup\":\"WKSWORK\",\"marker\":{\"color\":\"#FECB52\",\"pattern\":{\"shape\":\"\"}},\"name\":\"WKSWORK\",\"offsetgroup\":\"WKSWORK\",\"orientation\":\"h\",\"showlegend\":true,\"textposition\":\"auto\",\"x\":[0.0],\"xaxis\":\"x\",\"y\":[\"WKSWORK\"],\"yaxis\":\"y\",\"type\":\"bar\"},{\"alignmentgroup\":\"True\",\"hovertemplate\":\"features=%{y}<br>missing_values=%{x}<extra></extra>\",\"legendgroup\":\"YEAR\",\"marker\":{\"color\":\"#636efa\",\"pattern\":{\"shape\":\"\"}},\"name\":\"YEAR\",\"offsetgroup\":\"YEAR\",\"orientation\":\"h\",\"showlegend\":true,\"textposition\":\"auto\",\"x\":[0.0],\"xaxis\":\"x\",\"y\":[\"YEAR\"],\"yaxis\":\"y\",\"type\":\"bar\"},{\"alignmentgroup\":\"True\",\"hovertemplate\":\"features=%{y}<br>missing_values=%{x}<extra></extra>\",\"legendgroup\":\"TARGET\",\"marker\":{\"color\":\"#EF553B\",\"pattern\":{\"shape\":\"\"}},\"name\":\"TARGET\",\"offsetgroup\":\"TARGET\",\"orientation\":\"h\",\"showlegend\":true,\"textposition\":\"auto\",\"x\":[0.0],\"xaxis\":\"x\",\"y\":[\"TARGET\"],\"yaxis\":\"y\",\"type\":\"bar\"}],                        {\"template\":{\"data\":{\"histogram2dcontour\":[{\"type\":\"histogram2dcontour\",\"colorbar\":{\"outlinewidth\":0,\"ticks\":\"\"},\"colorscale\":[[0.0,\"#0d0887\"],[0.1111111111111111,\"#46039f\"],[0.2222222222222222,\"#7201a8\"],[0.3333333333333333,\"#9c179e\"],[0.4444444444444444,\"#bd3786\"],[0.5555555555555556,\"#d8576b\"],[0.6666666666666666,\"#ed7953\"],[0.7777777777777778,\"#fb9f3a\"],[0.8888888888888888,\"#fdca26\"],[1.0,\"#f0f921\"]]}],\"choropleth\":[{\"type\":\"choropleth\",\"colorbar\":{\"outlinewidth\":0,\"ticks\":\"\"}}],\"histogram2d\":[{\"type\":\"histogram2d\",\"colorbar\":{\"outlinewidth\":0,\"ticks\":\"\"},\"colorscale\":[[0.0,\"#0d0887\"],[0.1111111111111111,\"#46039f\"],[0.2222222222222222,\"#7201a8\"],[0.3333333333333333,\"#9c179e\"],[0.4444444444444444,\"#bd3786\"],[0.5555555555555556,\"#d8576b\"],[0.6666666666666666,\"#ed7953\"],[0.7777777777777778,\"#fb9f3a\"],[0.8888888888888888,\"#fdca26\"],[1.0,\"#f0f921\"]]}],\"heatmap\":[{\"type\":\"heatmap\",\"colorbar\":{\"outlinewidth\":0,\"ticks\":\"\"},\"colorscale\":[[0.0,\"#0d0887\"],[0.1111111111111111,\"#46039f\"],[0.2222222222222222,\"#7201a8\"],[0.3333333333333333,\"#9c179e\"],[0.4444444444444444,\"#bd3786\"],[0.5555555555555556,\"#d8576b\"],[0.6666666666666666,\"#ed7953\"],[0.7777777777777778,\"#fb9f3a\"],[0.8888888888888888,\"#fdca26\"],[1.0,\"#f0f921\"]]}],\"heatmapgl\":[{\"type\":\"heatmapgl\",\"colorbar\":{\"outlinewidth\":0,\"ticks\":\"\"},\"colorscale\":[[0.0,\"#0d0887\"],[0.1111111111111111,\"#46039f\"],[0.2222222222222222,\"#7201a8\"],[0.3333333333333333,\"#9c179e\"],[0.4444444444444444,\"#bd3786\"],[0.5555555555555556,\"#d8576b\"],[0.6666666666666666,\"#ed7953\"],[0.7777777777777778,\"#fb9f3a\"],[0.8888888888888888,\"#fdca26\"],[1.0,\"#f0f921\"]]}],\"contourcarpet\":[{\"type\":\"contourcarpet\",\"colorbar\":{\"outlinewidth\":0,\"ticks\":\"\"}}],\"contour\":[{\"type\":\"contour\",\"colorbar\":{\"outlinewidth\":0,\"ticks\":\"\"},\"colorscale\":[[0.0,\"#0d0887\"],[0.1111111111111111,\"#46039f\"],[0.2222222222222222,\"#7201a8\"],[0.3333333333333333,\"#9c179e\"],[0.4444444444444444,\"#bd3786\"],[0.5555555555555556,\"#d8576b\"],[0.6666666666666666,\"#ed7953\"],[0.7777777777777778,\"#fb9f3a\"],[0.8888888888888888,\"#fdca26\"],[1.0,\"#f0f921\"]]}],\"surface\":[{\"type\":\"surface\",\"colorbar\":{\"outlinewidth\":0,\"ticks\":\"\"},\"colorscale\":[[0.0,\"#0d0887\"],[0.1111111111111111,\"#46039f\"],[0.2222222222222222,\"#7201a8\"],[0.3333333333333333,\"#9c179e\"],[0.4444444444444444,\"#bd3786\"],[0.5555555555555556,\"#d8576b\"],[0.6666666666666666,\"#ed7953\"],[0.7777777777777778,\"#fb9f3a\"],[0.8888888888888888,\"#fdca26\"],[1.0,\"#f0f921\"]]}],\"mesh3d\":[{\"type\":\"mesh3d\",\"colorbar\":{\"outlinewidth\":0,\"ticks\":\"\"}}],\"scatter\":[{\"fillpattern\":{\"fillmode\":\"overlay\",\"size\":10,\"solidity\":0.2},\"type\":\"scatter\"}],\"parcoords\":[{\"type\":\"parcoords\",\"line\":{\"colorbar\":{\"outlinewidth\":0,\"ticks\":\"\"}}}],\"scatterpolargl\":[{\"type\":\"scatterpolargl\",\"marker\":{\"colorbar\":{\"outlinewidth\":0,\"ticks\":\"\"}}}],\"bar\":[{\"error_x\":{\"color\":\"#2a3f5f\"},\"error_y\":{\"color\":\"#2a3f5f\"},\"marker\":{\"line\":{\"color\":\"#E5ECF6\",\"width\":0.5},\"pattern\":{\"fillmode\":\"overlay\",\"size\":10,\"solidity\":0.2}},\"type\":\"bar\"}],\"scattergeo\":[{\"type\":\"scattergeo\",\"marker\":{\"colorbar\":{\"outlinewidth\":0,\"ticks\":\"\"}}}],\"scatterpolar\":[{\"type\":\"scatterpolar\",\"marker\":{\"colorbar\":{\"outlinewidth\":0,\"ticks\":\"\"}}}],\"histogram\":[{\"marker\":{\"pattern\":{\"fillmode\":\"overlay\",\"size\":10,\"solidity\":0.2}},\"type\":\"histogram\"}],\"scattergl\":[{\"type\":\"scattergl\",\"marker\":{\"colorbar\":{\"outlinewidth\":0,\"ticks\":\"\"}}}],\"scatter3d\":[{\"type\":\"scatter3d\",\"line\":{\"colorbar\":{\"outlinewidth\":0,\"ticks\":\"\"}},\"marker\":{\"colorbar\":{\"outlinewidth\":0,\"ticks\":\"\"}}}],\"scattermapbox\":[{\"type\":\"scattermapbox\",\"marker\":{\"colorbar\":{\"outlinewidth\":0,\"ticks\":\"\"}}}],\"scatterternary\":[{\"type\":\"scatterternary\",\"marker\":{\"colorbar\":{\"outlinewidth\":0,\"ticks\":\"\"}}}],\"scattercarpet\":[{\"type\":\"scattercarpet\",\"marker\":{\"colorbar\":{\"outlinewidth\":0,\"ticks\":\"\"}}}],\"carpet\":[{\"aaxis\":{\"endlinecolor\":\"#2a3f5f\",\"gridcolor\":\"white\",\"linecolor\":\"white\",\"minorgridcolor\":\"white\",\"startlinecolor\":\"#2a3f5f\"},\"baxis\":{\"endlinecolor\":\"#2a3f5f\",\"gridcolor\":\"white\",\"linecolor\":\"white\",\"minorgridcolor\":\"white\",\"startlinecolor\":\"#2a3f5f\"},\"type\":\"carpet\"}],\"table\":[{\"cells\":{\"fill\":{\"color\":\"#EBF0F8\"},\"line\":{\"color\":\"white\"}},\"header\":{\"fill\":{\"color\":\"#C8D4E3\"},\"line\":{\"color\":\"white\"}},\"type\":\"table\"}],\"barpolar\":[{\"marker\":{\"line\":{\"color\":\"#E5ECF6\",\"width\":0.5},\"pattern\":{\"fillmode\":\"overlay\",\"size\":10,\"solidity\":0.2}},\"type\":\"barpolar\"}],\"pie\":[{\"automargin\":true,\"type\":\"pie\"}]},\"layout\":{\"autotypenumbers\":\"strict\",\"colorway\":[\"#636efa\",\"#EF553B\",\"#00cc96\",\"#ab63fa\",\"#FFA15A\",\"#19d3f3\",\"#FF6692\",\"#B6E880\",\"#FF97FF\",\"#FECB52\"],\"font\":{\"color\":\"#2a3f5f\"},\"hovermode\":\"closest\",\"hoverlabel\":{\"align\":\"left\"},\"paper_bgcolor\":\"white\",\"plot_bgcolor\":\"#E5ECF6\",\"polar\":{\"bgcolor\":\"#E5ECF6\",\"angularaxis\":{\"gridcolor\":\"white\",\"linecolor\":\"white\",\"ticks\":\"\"},\"radialaxis\":{\"gridcolor\":\"white\",\"linecolor\":\"white\",\"ticks\":\"\"}},\"ternary\":{\"bgcolor\":\"#E5ECF6\",\"aaxis\":{\"gridcolor\":\"white\",\"linecolor\":\"white\",\"ticks\":\"\"},\"baxis\":{\"gridcolor\":\"white\",\"linecolor\":\"white\",\"ticks\":\"\"},\"caxis\":{\"gridcolor\":\"white\",\"linecolor\":\"white\",\"ticks\":\"\"}},\"coloraxis\":{\"colorbar\":{\"outlinewidth\":0,\"ticks\":\"\"}},\"colorscale\":{\"sequential\":[[0.0,\"#0d0887\"],[0.1111111111111111,\"#46039f\"],[0.2222222222222222,\"#7201a8\"],[0.3333333333333333,\"#9c179e\"],[0.4444444444444444,\"#bd3786\"],[0.5555555555555556,\"#d8576b\"],[0.6666666666666666,\"#ed7953\"],[0.7777777777777778,\"#fb9f3a\"],[0.8888888888888888,\"#fdca26\"],[1.0,\"#f0f921\"]],\"sequentialminus\":[[0.0,\"#0d0887\"],[0.1111111111111111,\"#46039f\"],[0.2222222222222222,\"#7201a8\"],[0.3333333333333333,\"#9c179e\"],[0.4444444444444444,\"#bd3786\"],[0.5555555555555556,\"#d8576b\"],[0.6666666666666666,\"#ed7953\"],[0.7777777777777778,\"#fb9f3a\"],[0.8888888888888888,\"#fdca26\"],[1.0,\"#f0f921\"]],\"diverging\":[[0,\"#8e0152\"],[0.1,\"#c51b7d\"],[0.2,\"#de77ae\"],[0.3,\"#f1b6da\"],[0.4,\"#fde0ef\"],[0.5,\"#f7f7f7\"],[0.6,\"#e6f5d0\"],[0.7,\"#b8e186\"],[0.8,\"#7fbc41\"],[0.9,\"#4d9221\"],[1,\"#276419\"]]},\"xaxis\":{\"gridcolor\":\"white\",\"linecolor\":\"white\",\"ticks\":\"\",\"title\":{\"standoff\":15},\"zerolinecolor\":\"white\",\"automargin\":true,\"zerolinewidth\":2},\"yaxis\":{\"gridcolor\":\"white\",\"linecolor\":\"white\",\"ticks\":\"\",\"title\":{\"standoff\":15},\"zerolinecolor\":\"white\",\"automargin\":true,\"zerolinewidth\":2},\"scene\":{\"xaxis\":{\"backgroundcolor\":\"#E5ECF6\",\"gridcolor\":\"white\",\"linecolor\":\"white\",\"showbackground\":true,\"ticks\":\"\",\"zerolinecolor\":\"white\",\"gridwidth\":2},\"yaxis\":{\"backgroundcolor\":\"#E5ECF6\",\"gridcolor\":\"white\",\"linecolor\":\"white\",\"showbackground\":true,\"ticks\":\"\",\"zerolinecolor\":\"white\",\"gridwidth\":2},\"zaxis\":{\"backgroundcolor\":\"#E5ECF6\",\"gridcolor\":\"white\",\"linecolor\":\"white\",\"showbackground\":true,\"ticks\":\"\",\"zerolinecolor\":\"white\",\"gridwidth\":2}},\"shapedefaults\":{\"line\":{\"color\":\"#2a3f5f\"}},\"annotationdefaults\":{\"arrowcolor\":\"#2a3f5f\",\"arrowhead\":0,\"arrowwidth\":1},\"geo\":{\"bgcolor\":\"white\",\"landcolor\":\"#E5ECF6\",\"subunitcolor\":\"white\",\"showland\":true,\"showlakes\":true,\"lakecolor\":\"white\"},\"title\":{\"x\":0.05},\"mapbox\":{\"style\":\"light\"}}},\"xaxis\":{\"anchor\":\"y\",\"domain\":[0.0,1.0],\"title\":{\"text\":\"missing_values\"}},\"yaxis\":{\"anchor\":\"x\",\"domain\":[0.0,1.0],\"title\":{\"text\":\"features\"},\"categoryorder\":\"array\",\"categoryarray\":[\"TARGET\",\"YEAR\",\"WKSWORK\",\"VETYN\",\"VETQVA\",\"SEOTR\",\"PRCITSHP\",\"PENATVTY\",\"PEMNTVTY\",\"PEFNTVTY\",\"PARENT\",\"NOEMP\",\"MIGSUN\",\"MIGSAME\",\"MIGMTR4\",\"MIGMTR3\",\"MIGMTR1\",\"HHDREL\",\"HHDFMX\",\"GRINST\",\"GRINREG\",\"FILESTAT\",\"DIVVAL\",\"CAPLOSS\",\"CAPGAIN\",\"AWKSTAT\",\"AUNTYPE\",\"AUNMEM\",\"ASEX\",\"AREORGN\",\"ARACE\",\"AMJOCC\",\"AMJIND\",\"AMARITL\",\"AHSCOL\",\"AHRSPAY\",\"AHGA\",\"ADTOCC\",\"ADTIND\",\"ACLSWKR\",\"AAGE\",\"ID\"]},\"legend\":{\"title\":{\"text\":\"features\"},\"tracegroupgap\":0},\"title\":{\"text\":\"Missing values in %\"},\"barmode\":\"relative\"},                        {\"responsive\": true}                    ).then(function(){\n",
       "                            \n",
       "var gd = document.getElementById('1e18ee2c-d0c5-469f-956c-3a97e6b9c31a');\n",
       "var x = new MutationObserver(function (mutations, observer) {{\n",
       "        var display = window.getComputedStyle(gd).display;\n",
       "        if (!display || display === 'none') {{\n",
       "            console.log([gd, 'removed!']);\n",
       "            Plotly.purge(gd);\n",
       "            observer.disconnect();\n",
       "        }}\n",
       "}});\n",
       "\n",
       "// Listen for the removal of the full notebook cells\n",
       "var notebookContainer = gd.closest('#notebook-container');\n",
       "if (notebookContainer) {{\n",
       "    x.observe(notebookContainer, {childList: true});\n",
       "}}\n",
       "\n",
       "// Listen for the clearing of the current output cell\n",
       "var outputEl = gd.closest('.output');\n",
       "if (outputEl) {{\n",
       "    x.observe(outputEl, {childList: true});\n",
       "}}\n",
       "\n",
       "                        })                };                });            </script>        </div>"
      ]
     },
     "metadata": {},
     "output_type": "display_data"
    }
   ],
   "source": [
    "px.bar(x='missing_values', y='features', data_frame=missing_values_info_df, title='Missing values in %', color='features')"
   ]
  },
  {
   "cell_type": "code",
   "execution_count": null,
   "id": "edca2b0c",
   "metadata": {
    "papermill": {
     "duration": 0.012448,
     "end_time": "2023-01-07T07:07:09.641146",
     "exception": false,
     "start_time": "2023-01-07T07:07:09.628698",
     "status": "completed"
    },
    "tags": []
   },
   "outputs": [],
   "source": []
  },
  {
   "cell_type": "markdown",
   "id": "fad20726",
   "metadata": {
    "papermill": {
     "duration": 0.011578,
     "end_time": "2023-01-07T07:07:09.667026",
     "exception": false,
     "start_time": "2023-01-07T07:07:09.655448",
     "status": "completed"
    },
    "tags": []
   },
   "source": [
    "# Missing Values Imputation\n",
    "* imputing with new category 'unknown'"
   ]
  },
  {
   "cell_type": "code",
   "execution_count": 10,
   "id": "817cc1e0",
   "metadata": {
    "execution": {
     "iopub.execute_input": "2023-01-07T07:07:09.694017Z",
     "iopub.status.busy": "2023-01-07T07:07:09.693507Z",
     "iopub.status.idle": "2023-01-07T07:07:09.701901Z",
     "shell.execute_reply": "2023-01-07T07:07:09.700332Z"
    },
    "papermill": {
     "duration": 0.025678,
     "end_time": "2023-01-07T07:07:09.704720",
     "exception": false,
     "start_time": "2023-01-07T07:07:09.679042",
     "status": "completed"
    },
    "tags": []
   },
   "outputs": [],
   "source": [
    "selected_features = missing_values_info_df[missing_values_info_df['missing_values']>0]['features'].values"
   ]
  },
  {
   "cell_type": "code",
   "execution_count": 11,
   "id": "34394cb9",
   "metadata": {
    "execution": {
     "iopub.execute_input": "2023-01-07T07:07:09.732549Z",
     "iopub.status.busy": "2023-01-07T07:07:09.732094Z",
     "iopub.status.idle": "2023-01-07T07:07:09.881664Z",
     "shell.execute_reply": "2023-01-07T07:07:09.880331Z"
    },
    "papermill": {
     "duration": 0.167863,
     "end_time": "2023-01-07T07:07:09.884492",
     "exception": false,
     "start_time": "2023-01-07T07:07:09.716629",
     "status": "completed"
    },
    "tags": []
   },
   "outputs": [],
   "source": [
    "for col in selected_features:\n",
    "    train_df[col] = train_df[col].fillna('unknown')\n",
    "    test_df[col] = test_df[col].fillna('unknown')"
   ]
  },
  {
   "cell_type": "code",
   "execution_count": null,
   "id": "546a2cfd",
   "metadata": {
    "papermill": {
     "duration": 0.01217,
     "end_time": "2023-01-07T07:07:09.908901",
     "exception": false,
     "start_time": "2023-01-07T07:07:09.896731",
     "status": "completed"
    },
    "tags": []
   },
   "outputs": [],
   "source": []
  },
  {
   "cell_type": "markdown",
   "id": "73ae29c5",
   "metadata": {
    "papermill": {
     "duration": 0.01147,
     "end_time": "2023-01-07T07:07:09.932371",
     "exception": false,
     "start_time": "2023-01-07T07:07:09.920901",
     "status": "completed"
    },
    "tags": []
   },
   "source": [
    "# LabelEncoder\n",
    "* Converting categorical data to numerical form. LabelEncoder encode target labels with value between 0 and n_classes-1.\n",
    "\n",
    "* using select_dtypes('object') for retreving string columns. select_dtypes returns a subset of the DataFrame’s columns based on the column dtypes\n",
    "\n",
    "* [Reference](https://scikit-learn.org/stable/modules/generated/sklearn.preprocessing.LabelEncoder.html) "
   ]
  },
  {
   "cell_type": "code",
   "execution_count": 12,
   "id": "df711c54",
   "metadata": {
    "execution": {
     "iopub.execute_input": "2023-01-07T07:07:09.958732Z",
     "iopub.status.busy": "2023-01-07T07:07:09.958299Z",
     "iopub.status.idle": "2023-01-07T07:07:12.845427Z",
     "shell.execute_reply": "2023-01-07T07:07:12.843947Z"
    },
    "papermill": {
     "duration": 2.904512,
     "end_time": "2023-01-07T07:07:12.848731",
     "exception": false,
     "start_time": "2023-01-07T07:07:09.944219",
     "status": "completed"
    },
    "tags": []
   },
   "outputs": [],
   "source": [
    "for col in train_df.select_dtypes('object'):\n",
    "    if col != 'ID':\n",
    "        le = LabelEncoder()\n",
    "        train_df[col] = le.fit_transform(train_df[col])\n",
    "        test_df[col] = le.transform(test_df[col])"
   ]
  },
  {
   "cell_type": "markdown",
   "id": "66fa5a4b",
   "metadata": {
    "papermill": {
     "duration": 0.012802,
     "end_time": "2023-01-07T07:07:12.875211",
     "exception": false,
     "start_time": "2023-01-07T07:07:12.862409",
     "status": "completed"
    },
    "tags": []
   },
   "source": [
    "# Prepare Train and Validation dataset\n",
    "\n",
    "* Keeping 80% data for training and 20% for validation. \n",
    "\n",
    "* Using stratified approach to split the data. Stratified helps to keep distribution of target variable same for training and validation dataset. "
   ]
  },
  {
   "cell_type": "code",
   "execution_count": 13,
   "id": "2ee9dfec",
   "metadata": {
    "execution": {
     "iopub.execute_input": "2023-01-07T07:07:12.905297Z",
     "iopub.status.busy": "2023-01-07T07:07:12.904735Z",
     "iopub.status.idle": "2023-01-07T07:07:13.045734Z",
     "shell.execute_reply": "2023-01-07T07:07:13.042979Z"
    },
    "papermill": {
     "duration": 0.160675,
     "end_time": "2023-01-07T07:07:13.049784",
     "exception": false,
     "start_time": "2023-01-07T07:07:12.889109",
     "status": "completed"
    },
    "tags": []
   },
   "outputs": [
    {
     "name": "stdout",
     "output_type": "stream",
     "text": [
      "(157509, 40)\n",
      "(157509,)\n"
     ]
    }
   ],
   "source": [
    "X = train_df.drop(columns=['ID','TARGET'])\n",
    "print(X.shape)\n",
    "y = train_df.TARGET\n",
    "print(y.shape)"
   ]
  },
  {
   "cell_type": "code",
   "execution_count": 14,
   "id": "61cfdede",
   "metadata": {
    "execution": {
     "iopub.execute_input": "2023-01-07T07:07:13.081894Z",
     "iopub.status.busy": "2023-01-07T07:07:13.080591Z",
     "iopub.status.idle": "2023-01-07T07:07:13.225133Z",
     "shell.execute_reply": "2023-01-07T07:07:13.223331Z"
    },
    "papermill": {
     "duration": 0.163999,
     "end_time": "2023-01-07T07:07:13.228519",
     "exception": false,
     "start_time": "2023-01-07T07:07:13.064520",
     "status": "completed"
    },
    "tags": []
   },
   "outputs": [],
   "source": [
    "X_train, X_valid, y_train, y_valid = train_test_split(X,y,\n",
    "                                                        test_size=0.2, \n",
    "                                                        stratify=y, \n",
    "                                                        random_state=SEED)"
   ]
  },
  {
   "cell_type": "code",
   "execution_count": 15,
   "id": "59ce2aed",
   "metadata": {
    "execution": {
     "iopub.execute_input": "2023-01-07T07:07:13.259133Z",
     "iopub.status.busy": "2023-01-07T07:07:13.258257Z",
     "iopub.status.idle": "2023-01-07T07:07:13.265683Z",
     "shell.execute_reply": "2023-01-07T07:07:13.264604Z"
    },
    "papermill": {
     "duration": 0.026796,
     "end_time": "2023-01-07T07:07:13.269379",
     "exception": false,
     "start_time": "2023-01-07T07:07:13.242583",
     "status": "completed"
    },
    "tags": []
   },
   "outputs": [
    {
     "data": {
      "text/plain": [
       "((126007, 40), (126007,))"
      ]
     },
     "execution_count": 15,
     "metadata": {},
     "output_type": "execute_result"
    }
   ],
   "source": [
    "X_train.shape, y_train.shape"
   ]
  },
  {
   "cell_type": "markdown",
   "id": "5082362c",
   "metadata": {
    "papermill": {
     "duration": 0.013683,
     "end_time": "2023-01-07T07:07:13.295918",
     "exception": false,
     "start_time": "2023-01-07T07:07:13.282235",
     "status": "completed"
    },
    "tags": []
   },
   "source": [
    "### target distribution in training "
   ]
  },
  {
   "cell_type": "code",
   "execution_count": 16,
   "id": "2420edb7",
   "metadata": {
    "execution": {
     "iopub.execute_input": "2023-01-07T07:07:13.323454Z",
     "iopub.status.busy": "2023-01-07T07:07:13.322701Z",
     "iopub.status.idle": "2023-01-07T07:07:13.334357Z",
     "shell.execute_reply": "2023-01-07T07:07:13.332972Z"
    },
    "papermill": {
     "duration": 0.031604,
     "end_time": "2023-01-07T07:07:13.340072",
     "exception": false,
     "start_time": "2023-01-07T07:07:13.308468",
     "status": "completed"
    },
    "tags": []
   },
   "outputs": [
    {
     "data": {
      "text/plain": [
       "0    0.917592\n",
       "1    0.082408\n",
       "Name: TARGET, dtype: float64"
      ]
     },
     "execution_count": 16,
     "metadata": {},
     "output_type": "execute_result"
    }
   ],
   "source": [
    "y_train.value_counts()/len(y_train)"
   ]
  },
  {
   "cell_type": "code",
   "execution_count": 17,
   "id": "d69aeea4",
   "metadata": {
    "execution": {
     "iopub.execute_input": "2023-01-07T07:07:13.375499Z",
     "iopub.status.busy": "2023-01-07T07:07:13.374497Z",
     "iopub.status.idle": "2023-01-07T07:07:13.382515Z",
     "shell.execute_reply": "2023-01-07T07:07:13.381490Z"
    },
    "papermill": {
     "duration": 0.027947,
     "end_time": "2023-01-07T07:07:13.384902",
     "exception": false,
     "start_time": "2023-01-07T07:07:13.356955",
     "status": "completed"
    },
    "tags": []
   },
   "outputs": [
    {
     "data": {
      "text/plain": [
       "((31502, 40), (31502,))"
      ]
     },
     "execution_count": 17,
     "metadata": {},
     "output_type": "execute_result"
    }
   ],
   "source": [
    "X_valid.shape, y_valid.shape"
   ]
  },
  {
   "cell_type": "markdown",
   "id": "99fcc990",
   "metadata": {
    "papermill": {
     "duration": 0.015524,
     "end_time": "2023-01-07T07:07:13.418632",
     "exception": false,
     "start_time": "2023-01-07T07:07:13.403108",
     "status": "completed"
    },
    "tags": []
   },
   "source": [
    "### target distribution in validation "
   ]
  },
  {
   "cell_type": "code",
   "execution_count": 18,
   "id": "2fbc8824",
   "metadata": {
    "execution": {
     "iopub.execute_input": "2023-01-07T07:07:13.453391Z",
     "iopub.status.busy": "2023-01-07T07:07:13.452599Z",
     "iopub.status.idle": "2023-01-07T07:07:13.461795Z",
     "shell.execute_reply": "2023-01-07T07:07:13.460861Z"
    },
    "papermill": {
     "duration": 0.028998,
     "end_time": "2023-01-07T07:07:13.464167",
     "exception": false,
     "start_time": "2023-01-07T07:07:13.435169",
     "status": "completed"
    },
    "tags": []
   },
   "outputs": [
    {
     "data": {
      "text/plain": [
       "0    0.917593\n",
       "1    0.082407\n",
       "Name: TARGET, dtype: float64"
      ]
     },
     "execution_count": 18,
     "metadata": {},
     "output_type": "execute_result"
    }
   ],
   "source": [
    "y_valid.value_counts()/len(y_valid)"
   ]
  },
  {
   "cell_type": "code",
   "execution_count": null,
   "id": "e7956612",
   "metadata": {
    "papermill": {
     "duration": 0.012131,
     "end_time": "2023-01-07T07:07:13.489812",
     "exception": false,
     "start_time": "2023-01-07T07:07:13.477681",
     "status": "completed"
    },
    "tags": []
   },
   "outputs": [],
   "source": []
  },
  {
   "cell_type": "markdown",
   "id": "de731d81",
   "metadata": {
    "papermill": {
     "duration": 0.012002,
     "end_time": "2023-01-07T07:07:13.514308",
     "exception": false,
     "start_time": "2023-01-07T07:07:13.502306",
     "status": "completed"
    },
    "tags": []
   },
   "source": [
    "# Helper Function"
   ]
  },
  {
   "cell_type": "code",
   "execution_count": 19,
   "id": "2b20d6de",
   "metadata": {
    "execution": {
     "iopub.execute_input": "2023-01-07T07:07:13.547506Z",
     "iopub.status.busy": "2023-01-07T07:07:13.546661Z",
     "iopub.status.idle": "2023-01-07T07:07:13.554821Z",
     "shell.execute_reply": "2023-01-07T07:07:13.553124Z"
    },
    "papermill": {
     "duration": 0.028634,
     "end_time": "2023-01-07T07:07:13.558050",
     "exception": false,
     "start_time": "2023-01-07T07:07:13.529416",
     "status": "completed"
    },
    "tags": []
   },
   "outputs": [],
   "source": [
    "def train_model(classifier, input_x, input_y):\n",
    "    clf = classifier.fit(input_x, input_y)\n",
    "    return clf\n",
    "\n",
    "def evaluate_model(classifier, validation_x, validation_y, eval_metrics=fbeta_score):\n",
    "    ypred = classifier.predict(validation_x)\n",
    "    return ypred, eval_metrics(validation_y, ypred, beta=0.5)\n"
   ]
  },
  {
   "cell_type": "code",
   "execution_count": null,
   "id": "3af76563",
   "metadata": {
    "papermill": {
     "duration": 0.014485,
     "end_time": "2023-01-07T07:07:13.585476",
     "exception": false,
     "start_time": "2023-01-07T07:07:13.570991",
     "status": "completed"
    },
    "tags": []
   },
   "outputs": [],
   "source": []
  },
  {
   "cell_type": "markdown",
   "id": "544724db",
   "metadata": {
    "papermill": {
     "duration": 0.014646,
     "end_time": "2023-01-07T07:07:13.616512",
     "exception": false,
     "start_time": "2023-01-07T07:07:13.601866",
     "status": "completed"
    },
    "tags": []
   },
   "source": [
    "# Comparing different ML algorithms"
   ]
  },
  {
   "cell_type": "code",
   "execution_count": 20,
   "id": "a4516326",
   "metadata": {
    "execution": {
     "iopub.execute_input": "2023-01-07T07:07:13.648479Z",
     "iopub.status.busy": "2023-01-07T07:07:13.647163Z",
     "iopub.status.idle": "2023-01-07T07:07:13.653601Z",
     "shell.execute_reply": "2023-01-07T07:07:13.652399Z"
    },
    "papermill": {
     "duration": 0.026533,
     "end_time": "2023-01-07T07:07:13.656746",
     "exception": false,
     "start_time": "2023-01-07T07:07:13.630213",
     "status": "completed"
    },
    "tags": []
   },
   "outputs": [],
   "source": [
    "classifiers = {\n",
    "    'logistic_regression' : LogisticRegression(solver='liblinear', random_state=SEED),\n",
    "    'decision_tree' : DecisionTreeClassifier(random_state=SEED),\n",
    "    'random_forest': RandomForestClassifier(random_state=SEED)\n",
    "    }"
   ]
  },
  {
   "cell_type": "code",
   "execution_count": 21,
   "id": "695a7547",
   "metadata": {
    "execution": {
     "iopub.execute_input": "2023-01-07T07:07:13.687449Z",
     "iopub.status.busy": "2023-01-07T07:07:13.686585Z",
     "iopub.status.idle": "2023-01-07T07:08:06.605278Z",
     "shell.execute_reply": "2023-01-07T07:08:06.603736Z"
    },
    "papermill": {
     "duration": 52.936989,
     "end_time": "2023-01-07T07:08:06.608637",
     "exception": false,
     "start_time": "2023-01-07T07:07:13.671648",
     "status": "completed"
    },
    "tags": []
   },
   "outputs": [],
   "source": [
    "trained_models = {}\n",
    "\n",
    "for classifier_name, classifier in classifiers.items():\n",
    "    \n",
    "    model = train_model(classifier, X_train, y_train)\n",
    "    ypred, validation_score = evaluate_model(model, X_valid, y_valid)\n",
    "    trained_models[classifier_name] = {'model': model, 'f1_score': validation_score}"
   ]
  },
  {
   "cell_type": "code",
   "execution_count": 22,
   "id": "d2f199c2",
   "metadata": {
    "execution": {
     "iopub.execute_input": "2023-01-07T07:08:06.639732Z",
     "iopub.status.busy": "2023-01-07T07:08:06.638362Z",
     "iopub.status.idle": "2023-01-07T07:08:06.647131Z",
     "shell.execute_reply": "2023-01-07T07:08:06.645338Z"
    },
    "papermill": {
     "duration": 0.029048,
     "end_time": "2023-01-07T07:08:06.651428",
     "exception": false,
     "start_time": "2023-01-07T07:08:06.622380",
     "status": "completed"
    },
    "tags": []
   },
   "outputs": [],
   "source": [
    "validation_results = defaultdict(list)\n",
    "for k,v in trained_models.items():\n",
    "    validation_results['classifier_name'].append(k)\n",
    "    validation_results['f1_score'].append(v['f1_score'])\n",
    "validation_results = pd.DataFrame(validation_results)"
   ]
  },
  {
   "cell_type": "code",
   "execution_count": 23,
   "id": "d701313f",
   "metadata": {
    "execution": {
     "iopub.execute_input": "2023-01-07T07:08:06.679594Z",
     "iopub.status.busy": "2023-01-07T07:08:06.678154Z",
     "iopub.status.idle": "2023-01-07T07:08:06.692766Z",
     "shell.execute_reply": "2023-01-07T07:08:06.691354Z"
    },
    "papermill": {
     "duration": 0.032124,
     "end_time": "2023-01-07T07:08:06.696079",
     "exception": false,
     "start_time": "2023-01-07T07:08:06.663955",
     "status": "completed"
    },
    "tags": []
   },
   "outputs": [
    {
     "data": {
      "text/html": [
       "<div>\n",
       "<style scoped>\n",
       "    .dataframe tbody tr th:only-of-type {\n",
       "        vertical-align: middle;\n",
       "    }\n",
       "\n",
       "    .dataframe tbody tr th {\n",
       "        vertical-align: top;\n",
       "    }\n",
       "\n",
       "    .dataframe thead th {\n",
       "        text-align: right;\n",
       "    }\n",
       "</style>\n",
       "<table border=\"1\" class=\"dataframe\">\n",
       "  <thead>\n",
       "    <tr style=\"text-align: right;\">\n",
       "      <th></th>\n",
       "      <th>classifier_name</th>\n",
       "      <th>f1_score</th>\n",
       "    </tr>\n",
       "  </thead>\n",
       "  <tbody>\n",
       "    <tr>\n",
       "      <th>0</th>\n",
       "      <td>logistic_regression</td>\n",
       "      <td>0.537320</td>\n",
       "    </tr>\n",
       "    <tr>\n",
       "      <th>1</th>\n",
       "      <td>decision_tree</td>\n",
       "      <td>0.464469</td>\n",
       "    </tr>\n",
       "    <tr>\n",
       "      <th>2</th>\n",
       "      <td>random_forest</td>\n",
       "      <td>0.647754</td>\n",
       "    </tr>\n",
       "  </tbody>\n",
       "</table>\n",
       "</div>"
      ],
      "text/plain": [
       "       classifier_name  f1_score\n",
       "0  logistic_regression  0.537320\n",
       "1        decision_tree  0.464469\n",
       "2        random_forest  0.647754"
      ]
     },
     "execution_count": 23,
     "metadata": {},
     "output_type": "execute_result"
    }
   ],
   "source": [
    "validation_results"
   ]
  },
  {
   "cell_type": "code",
   "execution_count": 24,
   "id": "fc68342d",
   "metadata": {
    "execution": {
     "iopub.execute_input": "2023-01-07T07:08:06.727016Z",
     "iopub.status.busy": "2023-01-07T07:08:06.726504Z",
     "iopub.status.idle": "2023-01-07T07:08:06.812417Z",
     "shell.execute_reply": "2023-01-07T07:08:06.810837Z"
    },
    "papermill": {
     "duration": 0.105762,
     "end_time": "2023-01-07T07:08:06.815236",
     "exception": false,
     "start_time": "2023-01-07T07:08:06.709474",
     "status": "completed"
    },
    "tags": []
   },
   "outputs": [
    {
     "data": {
      "text/html": [
       "<div>                            <div id=\"d4f9e2bc-ee8d-48d3-99d1-cd53505f701f\" class=\"plotly-graph-div\" style=\"height:525px; width:100%;\"></div>            <script type=\"text/javascript\">                require([\"plotly\"], function(Plotly) {                    window.PLOTLYENV=window.PLOTLYENV || {};                                    if (document.getElementById(\"d4f9e2bc-ee8d-48d3-99d1-cd53505f701f\")) {                    Plotly.newPlot(                        \"d4f9e2bc-ee8d-48d3-99d1-cd53505f701f\",                        [{\"alignmentgroup\":\"True\",\"hovertemplate\":\"classifier_name=%{y}<br>f1_score=%{x}<extra></extra>\",\"legendgroup\":\"logistic_regression\",\"marker\":{\"color\":\"#636efa\",\"pattern\":{\"shape\":\"\"}},\"name\":\"logistic_regression\",\"offsetgroup\":\"logistic_regression\",\"orientation\":\"h\",\"showlegend\":true,\"textposition\":\"auto\",\"x\":[0.5373201438848921],\"xaxis\":\"x\",\"y\":[\"logistic_regression\"],\"yaxis\":\"y\",\"type\":\"bar\"},{\"alignmentgroup\":\"True\",\"hovertemplate\":\"classifier_name=%{y}<br>f1_score=%{x}<extra></extra>\",\"legendgroup\":\"decision_tree\",\"marker\":{\"color\":\"#EF553B\",\"pattern\":{\"shape\":\"\"}},\"name\":\"decision_tree\",\"offsetgroup\":\"decision_tree\",\"orientation\":\"h\",\"showlegend\":true,\"textposition\":\"auto\",\"x\":[0.4644691780821918],\"xaxis\":\"x\",\"y\":[\"decision_tree\"],\"yaxis\":\"y\",\"type\":\"bar\"},{\"alignmentgroup\":\"True\",\"hovertemplate\":\"classifier_name=%{y}<br>f1_score=%{x}<extra></extra>\",\"legendgroup\":\"random_forest\",\"marker\":{\"color\":\"#00cc96\",\"pattern\":{\"shape\":\"\"}},\"name\":\"random_forest\",\"offsetgroup\":\"random_forest\",\"orientation\":\"h\",\"showlegend\":true,\"textposition\":\"auto\",\"x\":[0.6477541371158393],\"xaxis\":\"x\",\"y\":[\"random_forest\"],\"yaxis\":\"y\",\"type\":\"bar\"}],                        {\"template\":{\"data\":{\"histogram2dcontour\":[{\"type\":\"histogram2dcontour\",\"colorbar\":{\"outlinewidth\":0,\"ticks\":\"\"},\"colorscale\":[[0.0,\"#0d0887\"],[0.1111111111111111,\"#46039f\"],[0.2222222222222222,\"#7201a8\"],[0.3333333333333333,\"#9c179e\"],[0.4444444444444444,\"#bd3786\"],[0.5555555555555556,\"#d8576b\"],[0.6666666666666666,\"#ed7953\"],[0.7777777777777778,\"#fb9f3a\"],[0.8888888888888888,\"#fdca26\"],[1.0,\"#f0f921\"]]}],\"choropleth\":[{\"type\":\"choropleth\",\"colorbar\":{\"outlinewidth\":0,\"ticks\":\"\"}}],\"histogram2d\":[{\"type\":\"histogram2d\",\"colorbar\":{\"outlinewidth\":0,\"ticks\":\"\"},\"colorscale\":[[0.0,\"#0d0887\"],[0.1111111111111111,\"#46039f\"],[0.2222222222222222,\"#7201a8\"],[0.3333333333333333,\"#9c179e\"],[0.4444444444444444,\"#bd3786\"],[0.5555555555555556,\"#d8576b\"],[0.6666666666666666,\"#ed7953\"],[0.7777777777777778,\"#fb9f3a\"],[0.8888888888888888,\"#fdca26\"],[1.0,\"#f0f921\"]]}],\"heatmap\":[{\"type\":\"heatmap\",\"colorbar\":{\"outlinewidth\":0,\"ticks\":\"\"},\"colorscale\":[[0.0,\"#0d0887\"],[0.1111111111111111,\"#46039f\"],[0.2222222222222222,\"#7201a8\"],[0.3333333333333333,\"#9c179e\"],[0.4444444444444444,\"#bd3786\"],[0.5555555555555556,\"#d8576b\"],[0.6666666666666666,\"#ed7953\"],[0.7777777777777778,\"#fb9f3a\"],[0.8888888888888888,\"#fdca26\"],[1.0,\"#f0f921\"]]}],\"heatmapgl\":[{\"type\":\"heatmapgl\",\"colorbar\":{\"outlinewidth\":0,\"ticks\":\"\"},\"colorscale\":[[0.0,\"#0d0887\"],[0.1111111111111111,\"#46039f\"],[0.2222222222222222,\"#7201a8\"],[0.3333333333333333,\"#9c179e\"],[0.4444444444444444,\"#bd3786\"],[0.5555555555555556,\"#d8576b\"],[0.6666666666666666,\"#ed7953\"],[0.7777777777777778,\"#fb9f3a\"],[0.8888888888888888,\"#fdca26\"],[1.0,\"#f0f921\"]]}],\"contourcarpet\":[{\"type\":\"contourcarpet\",\"colorbar\":{\"outlinewidth\":0,\"ticks\":\"\"}}],\"contour\":[{\"type\":\"contour\",\"colorbar\":{\"outlinewidth\":0,\"ticks\":\"\"},\"colorscale\":[[0.0,\"#0d0887\"],[0.1111111111111111,\"#46039f\"],[0.2222222222222222,\"#7201a8\"],[0.3333333333333333,\"#9c179e\"],[0.4444444444444444,\"#bd3786\"],[0.5555555555555556,\"#d8576b\"],[0.6666666666666666,\"#ed7953\"],[0.7777777777777778,\"#fb9f3a\"],[0.8888888888888888,\"#fdca26\"],[1.0,\"#f0f921\"]]}],\"surface\":[{\"type\":\"surface\",\"colorbar\":{\"outlinewidth\":0,\"ticks\":\"\"},\"colorscale\":[[0.0,\"#0d0887\"],[0.1111111111111111,\"#46039f\"],[0.2222222222222222,\"#7201a8\"],[0.3333333333333333,\"#9c179e\"],[0.4444444444444444,\"#bd3786\"],[0.5555555555555556,\"#d8576b\"],[0.6666666666666666,\"#ed7953\"],[0.7777777777777778,\"#fb9f3a\"],[0.8888888888888888,\"#fdca26\"],[1.0,\"#f0f921\"]]}],\"mesh3d\":[{\"type\":\"mesh3d\",\"colorbar\":{\"outlinewidth\":0,\"ticks\":\"\"}}],\"scatter\":[{\"fillpattern\":{\"fillmode\":\"overlay\",\"size\":10,\"solidity\":0.2},\"type\":\"scatter\"}],\"parcoords\":[{\"type\":\"parcoords\",\"line\":{\"colorbar\":{\"outlinewidth\":0,\"ticks\":\"\"}}}],\"scatterpolargl\":[{\"type\":\"scatterpolargl\",\"marker\":{\"colorbar\":{\"outlinewidth\":0,\"ticks\":\"\"}}}],\"bar\":[{\"error_x\":{\"color\":\"#2a3f5f\"},\"error_y\":{\"color\":\"#2a3f5f\"},\"marker\":{\"line\":{\"color\":\"#E5ECF6\",\"width\":0.5},\"pattern\":{\"fillmode\":\"overlay\",\"size\":10,\"solidity\":0.2}},\"type\":\"bar\"}],\"scattergeo\":[{\"type\":\"scattergeo\",\"marker\":{\"colorbar\":{\"outlinewidth\":0,\"ticks\":\"\"}}}],\"scatterpolar\":[{\"type\":\"scatterpolar\",\"marker\":{\"colorbar\":{\"outlinewidth\":0,\"ticks\":\"\"}}}],\"histogram\":[{\"marker\":{\"pattern\":{\"fillmode\":\"overlay\",\"size\":10,\"solidity\":0.2}},\"type\":\"histogram\"}],\"scattergl\":[{\"type\":\"scattergl\",\"marker\":{\"colorbar\":{\"outlinewidth\":0,\"ticks\":\"\"}}}],\"scatter3d\":[{\"type\":\"scatter3d\",\"line\":{\"colorbar\":{\"outlinewidth\":0,\"ticks\":\"\"}},\"marker\":{\"colorbar\":{\"outlinewidth\":0,\"ticks\":\"\"}}}],\"scattermapbox\":[{\"type\":\"scattermapbox\",\"marker\":{\"colorbar\":{\"outlinewidth\":0,\"ticks\":\"\"}}}],\"scatterternary\":[{\"type\":\"scatterternary\",\"marker\":{\"colorbar\":{\"outlinewidth\":0,\"ticks\":\"\"}}}],\"scattercarpet\":[{\"type\":\"scattercarpet\",\"marker\":{\"colorbar\":{\"outlinewidth\":0,\"ticks\":\"\"}}}],\"carpet\":[{\"aaxis\":{\"endlinecolor\":\"#2a3f5f\",\"gridcolor\":\"white\",\"linecolor\":\"white\",\"minorgridcolor\":\"white\",\"startlinecolor\":\"#2a3f5f\"},\"baxis\":{\"endlinecolor\":\"#2a3f5f\",\"gridcolor\":\"white\",\"linecolor\":\"white\",\"minorgridcolor\":\"white\",\"startlinecolor\":\"#2a3f5f\"},\"type\":\"carpet\"}],\"table\":[{\"cells\":{\"fill\":{\"color\":\"#EBF0F8\"},\"line\":{\"color\":\"white\"}},\"header\":{\"fill\":{\"color\":\"#C8D4E3\"},\"line\":{\"color\":\"white\"}},\"type\":\"table\"}],\"barpolar\":[{\"marker\":{\"line\":{\"color\":\"#E5ECF6\",\"width\":0.5},\"pattern\":{\"fillmode\":\"overlay\",\"size\":10,\"solidity\":0.2}},\"type\":\"barpolar\"}],\"pie\":[{\"automargin\":true,\"type\":\"pie\"}]},\"layout\":{\"autotypenumbers\":\"strict\",\"colorway\":[\"#636efa\",\"#EF553B\",\"#00cc96\",\"#ab63fa\",\"#FFA15A\",\"#19d3f3\",\"#FF6692\",\"#B6E880\",\"#FF97FF\",\"#FECB52\"],\"font\":{\"color\":\"#2a3f5f\"},\"hovermode\":\"closest\",\"hoverlabel\":{\"align\":\"left\"},\"paper_bgcolor\":\"white\",\"plot_bgcolor\":\"#E5ECF6\",\"polar\":{\"bgcolor\":\"#E5ECF6\",\"angularaxis\":{\"gridcolor\":\"white\",\"linecolor\":\"white\",\"ticks\":\"\"},\"radialaxis\":{\"gridcolor\":\"white\",\"linecolor\":\"white\",\"ticks\":\"\"}},\"ternary\":{\"bgcolor\":\"#E5ECF6\",\"aaxis\":{\"gridcolor\":\"white\",\"linecolor\":\"white\",\"ticks\":\"\"},\"baxis\":{\"gridcolor\":\"white\",\"linecolor\":\"white\",\"ticks\":\"\"},\"caxis\":{\"gridcolor\":\"white\",\"linecolor\":\"white\",\"ticks\":\"\"}},\"coloraxis\":{\"colorbar\":{\"outlinewidth\":0,\"ticks\":\"\"}},\"colorscale\":{\"sequential\":[[0.0,\"#0d0887\"],[0.1111111111111111,\"#46039f\"],[0.2222222222222222,\"#7201a8\"],[0.3333333333333333,\"#9c179e\"],[0.4444444444444444,\"#bd3786\"],[0.5555555555555556,\"#d8576b\"],[0.6666666666666666,\"#ed7953\"],[0.7777777777777778,\"#fb9f3a\"],[0.8888888888888888,\"#fdca26\"],[1.0,\"#f0f921\"]],\"sequentialminus\":[[0.0,\"#0d0887\"],[0.1111111111111111,\"#46039f\"],[0.2222222222222222,\"#7201a8\"],[0.3333333333333333,\"#9c179e\"],[0.4444444444444444,\"#bd3786\"],[0.5555555555555556,\"#d8576b\"],[0.6666666666666666,\"#ed7953\"],[0.7777777777777778,\"#fb9f3a\"],[0.8888888888888888,\"#fdca26\"],[1.0,\"#f0f921\"]],\"diverging\":[[0,\"#8e0152\"],[0.1,\"#c51b7d\"],[0.2,\"#de77ae\"],[0.3,\"#f1b6da\"],[0.4,\"#fde0ef\"],[0.5,\"#f7f7f7\"],[0.6,\"#e6f5d0\"],[0.7,\"#b8e186\"],[0.8,\"#7fbc41\"],[0.9,\"#4d9221\"],[1,\"#276419\"]]},\"xaxis\":{\"gridcolor\":\"white\",\"linecolor\":\"white\",\"ticks\":\"\",\"title\":{\"standoff\":15},\"zerolinecolor\":\"white\",\"automargin\":true,\"zerolinewidth\":2},\"yaxis\":{\"gridcolor\":\"white\",\"linecolor\":\"white\",\"ticks\":\"\",\"title\":{\"standoff\":15},\"zerolinecolor\":\"white\",\"automargin\":true,\"zerolinewidth\":2},\"scene\":{\"xaxis\":{\"backgroundcolor\":\"#E5ECF6\",\"gridcolor\":\"white\",\"linecolor\":\"white\",\"showbackground\":true,\"ticks\":\"\",\"zerolinecolor\":\"white\",\"gridwidth\":2},\"yaxis\":{\"backgroundcolor\":\"#E5ECF6\",\"gridcolor\":\"white\",\"linecolor\":\"white\",\"showbackground\":true,\"ticks\":\"\",\"zerolinecolor\":\"white\",\"gridwidth\":2},\"zaxis\":{\"backgroundcolor\":\"#E5ECF6\",\"gridcolor\":\"white\",\"linecolor\":\"white\",\"showbackground\":true,\"ticks\":\"\",\"zerolinecolor\":\"white\",\"gridwidth\":2}},\"shapedefaults\":{\"line\":{\"color\":\"#2a3f5f\"}},\"annotationdefaults\":{\"arrowcolor\":\"#2a3f5f\",\"arrowhead\":0,\"arrowwidth\":1},\"geo\":{\"bgcolor\":\"white\",\"landcolor\":\"#E5ECF6\",\"subunitcolor\":\"white\",\"showland\":true,\"showlakes\":true,\"lakecolor\":\"white\"},\"title\":{\"x\":0.05},\"mapbox\":{\"style\":\"light\"}}},\"xaxis\":{\"anchor\":\"y\",\"domain\":[0.0,1.0],\"title\":{\"text\":\"f1_score\"}},\"yaxis\":{\"anchor\":\"x\",\"domain\":[0.0,1.0],\"title\":{\"text\":\"classifier_name\"},\"categoryorder\":\"array\",\"categoryarray\":[\"random_forest\",\"decision_tree\",\"logistic_regression\"]},\"legend\":{\"title\":{\"text\":\"classifier_name\"},\"tracegroupgap\":0},\"title\":{\"text\":\"Algorithm Performance Comparison\"},\"barmode\":\"relative\"},                        {\"responsive\": true}                    ).then(function(){\n",
       "                            \n",
       "var gd = document.getElementById('d4f9e2bc-ee8d-48d3-99d1-cd53505f701f');\n",
       "var x = new MutationObserver(function (mutations, observer) {{\n",
       "        var display = window.getComputedStyle(gd).display;\n",
       "        if (!display || display === 'none') {{\n",
       "            console.log([gd, 'removed!']);\n",
       "            Plotly.purge(gd);\n",
       "            observer.disconnect();\n",
       "        }}\n",
       "}});\n",
       "\n",
       "// Listen for the removal of the full notebook cells\n",
       "var notebookContainer = gd.closest('#notebook-container');\n",
       "if (notebookContainer) {{\n",
       "    x.observe(notebookContainer, {childList: true});\n",
       "}}\n",
       "\n",
       "// Listen for the clearing of the current output cell\n",
       "var outputEl = gd.closest('.output');\n",
       "if (outputEl) {{\n",
       "    x.observe(outputEl, {childList: true});\n",
       "}}\n",
       "\n",
       "                        })                };                });            </script>        </div>"
      ]
     },
     "metadata": {},
     "output_type": "display_data"
    }
   ],
   "source": [
    "px.bar(x='f1_score', y='classifier_name', data_frame=validation_results, color=\"classifier_name\", title='Algorithm Performance Comparison')"
   ]
  },
  {
   "cell_type": "markdown",
   "id": "d583c27e",
   "metadata": {
    "papermill": {
     "duration": 0.013883,
     "end_time": "2023-01-07T07:08:06.842797",
     "exception": false,
     "start_time": "2023-01-07T07:08:06.828914",
     "status": "completed"
    },
    "tags": []
   },
   "source": [
    "# Inference :\n",
    "\n",
    "* Piciking the best model for inference which is RandomForest"
   ]
  },
  {
   "cell_type": "code",
   "execution_count": 25,
   "id": "e1a2968f",
   "metadata": {
    "execution": {
     "iopub.execute_input": "2023-01-07T07:08:06.872595Z",
     "iopub.status.busy": "2023-01-07T07:08:06.872107Z",
     "iopub.status.idle": "2023-01-07T07:08:06.922656Z",
     "shell.execute_reply": "2023-01-07T07:08:06.921054Z"
    },
    "papermill": {
     "duration": 0.069738,
     "end_time": "2023-01-07T07:08:06.925770",
     "exception": false,
     "start_time": "2023-01-07T07:08:06.856032",
     "status": "completed"
    },
    "tags": []
   },
   "outputs": [],
   "source": [
    "XTest = test_df.drop(columns=['ID'])"
   ]
  },
  {
   "cell_type": "code",
   "execution_count": 26,
   "id": "be62367d",
   "metadata": {
    "execution": {
     "iopub.execute_input": "2023-01-07T07:08:06.956381Z",
     "iopub.status.busy": "2023-01-07T07:08:06.955027Z",
     "iopub.status.idle": "2023-01-07T07:08:09.468307Z",
     "shell.execute_reply": "2023-01-07T07:08:09.466881Z"
    },
    "papermill": {
     "duration": 2.531697,
     "end_time": "2023-01-07T07:08:09.471355",
     "exception": false,
     "start_time": "2023-01-07T07:08:06.939658",
     "status": "completed"
    },
    "tags": []
   },
   "outputs": [],
   "source": [
    "ytest_pred = trained_models['random_forest']['model'].predict(XTest)"
   ]
  },
  {
   "cell_type": "code",
   "execution_count": 27,
   "id": "abc276c6",
   "metadata": {
    "execution": {
     "iopub.execute_input": "2023-01-07T07:08:09.499631Z",
     "iopub.status.busy": "2023-01-07T07:08:09.499112Z",
     "iopub.status.idle": "2023-01-07T07:08:09.515528Z",
     "shell.execute_reply": "2023-01-07T07:08:09.514164Z"
    },
    "papermill": {
     "duration": 0.034055,
     "end_time": "2023-01-07T07:08:09.518464",
     "exception": false,
     "start_time": "2023-01-07T07:08:09.484409",
     "status": "completed"
    },
    "tags": []
   },
   "outputs": [
    {
     "data": {
      "text/html": [
       "<div>\n",
       "<style scoped>\n",
       "    .dataframe tbody tr th:only-of-type {\n",
       "        vertical-align: middle;\n",
       "    }\n",
       "\n",
       "    .dataframe tbody tr th {\n",
       "        vertical-align: top;\n",
       "    }\n",
       "\n",
       "    .dataframe thead th {\n",
       "        text-align: right;\n",
       "    }\n",
       "</style>\n",
       "<table border=\"1\" class=\"dataframe\">\n",
       "  <thead>\n",
       "    <tr style=\"text-align: right;\">\n",
       "      <th></th>\n",
       "      <th>ID</th>\n",
       "      <th>TARGET</th>\n",
       "    </tr>\n",
       "  </thead>\n",
       "  <tbody>\n",
       "    <tr>\n",
       "      <th>0</th>\n",
       "      <td>ai1kagv30p8v</td>\n",
       "      <td>0</td>\n",
       "    </tr>\n",
       "    <tr>\n",
       "      <th>1</th>\n",
       "      <td>9s9e3x6a8f7u</td>\n",
       "      <td>0</td>\n",
       "    </tr>\n",
       "    <tr>\n",
       "      <th>2</th>\n",
       "      <td>qlvd7mszxd2z</td>\n",
       "      <td>0</td>\n",
       "    </tr>\n",
       "    <tr>\n",
       "      <th>3</th>\n",
       "      <td>uwhbqcnx5a5z</td>\n",
       "      <td>0</td>\n",
       "    </tr>\n",
       "    <tr>\n",
       "      <th>4</th>\n",
       "      <td>27c5sqbrzdwf</td>\n",
       "      <td>1</td>\n",
       "    </tr>\n",
       "  </tbody>\n",
       "</table>\n",
       "</div>"
      ],
      "text/plain": [
       "             ID  TARGET\n",
       "0  ai1kagv30p8v       0\n",
       "1  9s9e3x6a8f7u       0\n",
       "2  qlvd7mszxd2z       0\n",
       "3  uwhbqcnx5a5z       0\n",
       "4  27c5sqbrzdwf       1"
      ]
     },
     "execution_count": 27,
     "metadata": {},
     "output_type": "execute_result"
    }
   ],
   "source": [
    "output = sample_sub.copy()\n",
    "output['TARGET'] = ytest_pred\n",
    "output.head()"
   ]
  },
  {
   "cell_type": "code",
   "execution_count": 28,
   "id": "309fa091",
   "metadata": {
    "execution": {
     "iopub.execute_input": "2023-01-07T07:08:09.549136Z",
     "iopub.status.busy": "2023-01-07T07:08:09.548637Z",
     "iopub.status.idle": "2023-01-07T07:08:09.561511Z",
     "shell.execute_reply": "2023-01-07T07:08:09.560080Z"
    },
    "papermill": {
     "duration": 0.03045,
     "end_time": "2023-01-07T07:08:09.564124",
     "exception": false,
     "start_time": "2023-01-07T07:08:09.533674",
     "status": "completed"
    },
    "tags": []
   },
   "outputs": [
    {
     "data": {
      "text/plain": [
       "0    0.952863\n",
       "1    0.047137\n",
       "Name: TARGET, dtype: float64"
      ]
     },
     "execution_count": 28,
     "metadata": {},
     "output_type": "execute_result"
    }
   ],
   "source": [
    "output['TARGET'].value_counts()/len(output)"
   ]
  },
  {
   "cell_type": "code",
   "execution_count": 29,
   "id": "b49a4910",
   "metadata": {
    "execution": {
     "iopub.execute_input": "2023-01-07T07:08:09.595276Z",
     "iopub.status.busy": "2023-01-07T07:08:09.594771Z",
     "iopub.status.idle": "2023-01-07T07:08:09.681483Z",
     "shell.execute_reply": "2023-01-07T07:08:09.680445Z"
    },
    "papermill": {
     "duration": 0.104956,
     "end_time": "2023-01-07T07:08:09.684807",
     "exception": false,
     "start_time": "2023-01-07T07:08:09.579851",
     "status": "completed"
    },
    "tags": []
   },
   "outputs": [],
   "source": [
    "output.to_csv('./solution.csv', index=False)"
   ]
  },
  {
   "cell_type": "code",
   "execution_count": null,
   "id": "79cd8bb0",
   "metadata": {
    "papermill": {
     "duration": 0.013254,
     "end_time": "2023-01-07T07:08:09.711935",
     "exception": false,
     "start_time": "2023-01-07T07:08:09.698681",
     "status": "completed"
    },
    "tags": []
   },
   "outputs": [],
   "source": []
  }
 ],
 "metadata": {
  "kernelspec": {
   "display_name": "Python 3",
   "language": "python",
   "name": "python3"
  },
  "language_info": {
   "codemirror_mode": {
    "name": "ipython",
    "version": 3
   },
   "file_extension": ".py",
   "mimetype": "text/x-python",
   "name": "python",
   "nbconvert_exporter": "python",
   "pygments_lexer": "ipython3",
   "version": "3.7.12"
  },
  "papermill": {
   "default_parameters": {},
   "duration": 111.823851,
   "end_time": "2023-01-07T07:08:11.053460",
   "environment_variables": {},
   "exception": null,
   "input_path": "__notebook__.ipynb",
   "output_path": "__notebook__.ipynb",
   "parameters": {},
   "start_time": "2023-01-07T07:06:19.229609",
   "version": "2.3.4"
  }
 },
 "nbformat": 4,
 "nbformat_minor": 5
}
